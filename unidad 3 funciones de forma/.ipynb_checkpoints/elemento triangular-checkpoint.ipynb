{
 "cells": [
  {
   "cell_type": "markdown",
   "metadata": {},
   "source": [
    "Elemento triangular"
   ]
  },
  {
   "cell_type": "code",
   "execution_count": null,
   "metadata": {},
   "outputs": [],
   "source": [
    "import numpy as np\n",
    "#------DATOS----------\n",
    "i = [0,14]\n",
    "j = [7,14]\n",
    "k = [7,21]\n",
    "#---------------------\n",
    "p=[i,j,k]\n",
    "A = [1, p[0][0],p[0][1]]\n",
    "A = np.vstack([A,[1, p[1][0],p[1][1]] ])\n",
    "A = np.vstack([A,[1, p[2][0],p[2][1]] ])\n",
    "print(A)\n",
    "DET = np.linalg.det(A)\n",
    "print(DET)\n",
    "\n",
    "ai = j[0]*k[1] - k[0]*j[1]\n",
    "aj = k[0]*i[1] - i[0]*k[1]\n",
    "ak = i[0]*j[1] - j[0]*i[1]\n",
    "bi = j[1] - k[1]\n",
    "bj = k[1] - i[1]\n",
    "bk = i[1] - j[1]\n",
    "ci = k[0] - j[0]\n",
    "cj = i[0] - k[0]\n",
    "ck = j[0] - i[0]\n",
    "print(\"ai:{} bi:{} ci:{}\".format(ai,bi,ci))\n",
    "print(\"aj:{} bj:{} cj:{}\".format(aj,bj,cj))\n",
    "print(\"ak:{} bk:{} ck:{}\".format(ak,bk,ck))\n",
    "\n",
    "import sympy as sp\n",
    "\n",
    "Ni, Nj, Nk, x, y = sp.symbols(\"Ni, Nj, Nk, x, y\")\n",
    "Ni = sp.N((ai+bi*x+ci*y)/DET)\n",
    "Nj = sp.N((aj+bj*x+cj*y)/DET)\n",
    "Nk = sp.N((ak+bk*x+ck*y)/DET)\n",
    "print(\"Ni: \"+ str(sp.simplify(Ni)))\n",
    "print(\"Nj: \"+ str(Nj))\n",
    "print(\"Nk: \"+ str(Nk))\n",
    "\n",
    "x_ = float(input(\"Ingrese coordenada x a calcular: \")) \n",
    "y_ = float(input(\"Ingrese coordenada y a calcular: \")) \n",
    "phi_i = float(input(\"Ingrese phi_i : \"))\n",
    "phi_j = float(input(\"Ingrese phi_j : \"))\n",
    "phi_k = float(input(\"Ingrese phi_k : \"))\n",
    "Ni_ = Ni.subs(x,x_).subs(y,y_)\n",
    "Nj_ = Nj.subs(x,x_).subs(y,y_)\n",
    "Nk_ = Nk.subs(x,x_).subs(y,y_)\n",
    "print(\"Ni: \"+ str(Ni_))\n",
    "print(\"Nj: \"+ str(Nj_))\n",
    "print(\"Nk: \"+ str(Nk_))\n",
    "print(\"phi = \"+str(phi_i*Ni_+phi_j*Nj_+phi_k*Nk_))"
   ]
  },
  {
   "cell_type": "code",
   "execution_count": null,
   "metadata": {},
   "outputs": [],
   "source": []
  }
 ],
 "metadata": {
  "kernelspec": {
   "display_name": "Python 3",
   "language": "python",
   "name": "python3"
  },
  "language_info": {
   "codemirror_mode": {
    "name": "ipython",
    "version": 3
   },
   "file_extension": ".py",
   "mimetype": "text/x-python",
   "name": "python",
   "nbconvert_exporter": "python",
   "pygments_lexer": "ipython3",
   "version": "3.7.3"
  }
 },
 "nbformat": 4,
 "nbformat_minor": 2
}
