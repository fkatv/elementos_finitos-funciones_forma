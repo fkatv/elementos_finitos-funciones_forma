{
 "cells": [
  {
   "cell_type": "code",
   "execution_count": 1,
   "metadata": {},
   "outputs": [],
   "source": [
    "import sympy as sp\n",
    "a1,a2,a3,ei,ej,ek,Xi,Xj,Xk,ep = sp.symbols(\"a1,a2,a3,ei,ej,ek,Xi,Xj,Xk,ep\")\n"
   ]
  },
  {
   "cell_type": "code",
   "execution_count": 5,
   "metadata": {},
   "outputs": [
    {
     "name": "stdout",
     "output_type": "stream",
     "text": [
      "soluciones a1,a2,a3\n",
      "{a1: Xj, a2: -Xi/2 + Xk/2, a3: Xi/2 - Xj + Xk/2}\n",
      "phi (función de forma)\n",
      "Xi*ep**2/2 - Xi*ep/2 - Xj*ep**2 + Xj + Xk*ep**2/2 + Xk*ep/2\n",
      "\n",
      "Ni: ep*(ep - 1)/2\n",
      "Nj: 1 - ep**2\n",
      "Nk: ep*(ep + 1)/2\n",
      "Comprobacion 1: reemplazar ei,ej,ek en cada Ni,Nj,Nk\n",
      "1 si e_x = N_x / x=i,j,k\n",
      "Comprobando Ni\n",
      "[1, 0, 0] ->OK\n",
      "Comprobando Nj\n",
      "[0, 1, 0] ->OK\n",
      "Comprobando Nk\n",
      "[0, 0, 1] ->OK\n",
      "\n",
      "derivadas = 0\n",
      "dNi = ep - 1/2\n",
      "dNj = -2*ep\n",
      "dNk = ep + 1/2\n",
      "dNi+dNj+dNk = 0\n",
      "Comprobación realizada, funciona.\n"
     ]
    },
    {
     "data": {
      "text/latex": [
       "$\\displaystyle \\frac{\\Xi ep^{2}}{2} - \\frac{\\Xi ep}{2} - Xj ep^{2} + Xj + \\frac{Xk ep^{2}}{2} + \\frac{Xk ep}{2}$"
      ],
      "text/plain": [
       "Xi*ep**2/2 - Xi*ep/2 - Xj*ep**2 + Xj + Xk*ep**2/2 + Xk*ep/2"
      ]
     },
     "execution_count": 5,
     "metadata": {},
     "output_type": "execute_result"
    }
   ],
   "source": [
    "#Ti = a+b*Xi+c*Xi^2\n",
    "#0 = -Ti + a+b*Xi+c*Xi^2\n",
    "\n",
    "ec1 = -Xi + a1 + a2*ei + a3*ei**2\n",
    "ec2 = -Xj + a1 + a2*ej + a3*ej**2\n",
    "ec3 = -Xk + a1 + a2*ek + a3*ek**2\n",
    "\n",
    "#coordenadas naturales\n",
    "v_ei = -1\n",
    "v_ej = 0\n",
    "v_ek = 1\n",
    "\n",
    "#reemplazar epsilon iniciales en las ecuaciones\n",
    "ec1 = ec1.subs(ei,v_ei)\n",
    "ec2 = ec2.subs(ej,v_ej)\n",
    "ec3 = ec3.subs(ek,v_ek)\n",
    "\n",
    "\n",
    "# Recibe las ecuaciones de la recta + el indice (i,j,k) de la funcion de forma\n",
    "def funcionForma(ec1,ec2,ec3):\n",
    "    V = sp.solve([ec3,ec2,ec1],[a1,a2,a3])\n",
    "    print(\"soluciones a1,a2,a3\")\n",
    "    print(V)\n",
    "    print(\"phi (función de forma)\")\n",
    "    phi = V[a1] + V[a2]*ep + V[a3]*ep**2\n",
    "    V = sp.expand(phi)\n",
    "    print(V)\n",
    "    comprobar(V)\n",
    "    \n",
    "    return V\n",
    "\n",
    "def comprobar(V):\n",
    "    Ni = sp.simplify(V.subs(Xi,1).subs(Xj,0).subs(Xk,0))\n",
    "    print(\"\\nNi: \"+str(Ni))\n",
    "    Nj = sp.simplify(V.subs(Xi,0).subs(Xj,1).subs(Xk,0))\n",
    "    print(\"Nj: \"+str(Nj))\n",
    "    Nk = sp.simplify(V.subs(Xi,0).subs(Xj,0).subs(Xk,1))\n",
    "    print(\"Nk: \"+str(Nk))\n",
    "    N = [\"Ni\",\"Nj\",\"Nk\"]\n",
    "    Vtemp=[\"[1, 0, 0]\"]\n",
    "    Vtemp.append(\"[0, 1, 0]\")\n",
    "    Vtemp.append(\"[0, 0, 1]\")\n",
    "    \n",
    "    COMPROB = True\n",
    "    print(\"Comprobacion 1: reemplazar ei,ej,ek en cada Ni,Nj,Nk\")\n",
    "    print(\"1 si e_x = N_x / x=i,j,k\")\n",
    "    for i in range(3):\n",
    "        print(\"Comprobando \"+N[i])\n",
    "        vector=[]\n",
    "        Ntemp=Ni\n",
    "        if(i==1):\n",
    "            Ntemp=Nj\n",
    "        if(i==2):\n",
    "            Ntemp=Nk\n",
    "        vector.append(int(Ntemp.subs(ep,v_ei))) \n",
    "        vector.append(int(Ntemp.subs(ep,v_ej))) \n",
    "        vector.append(int(Ntemp.subs(ep,v_ek)))\n",
    "        comp=\"\"\n",
    "        if(str(vector) == Vtemp[i]):\n",
    "            comp = \"OK\"\n",
    "        else:\n",
    "            print(Vtemp[i])\n",
    "            COMPROB = False\n",
    "            comp = \"No es\"\n",
    "        print(str(vector) + \" ->\"+comp)\n",
    "    \n",
    "    #derivadas\n",
    "    dNi = sp.diff(Ni,ep)\n",
    "    dNj = sp.diff(Nj,ep)\n",
    "    dNk = sp.diff(Nk,ep)\n",
    "    print(\"\\nderivadas = 0\")\n",
    "    print(\"dNi = \"+str(dNi))\n",
    "    print(\"dNj = \"+str(dNj))\n",
    "    print(\"dNk = \"+str(dNk))\n",
    "    ec = dNi+dNj+dNk\n",
    "    if(ec!=0):\n",
    "        COMPROB = False\n",
    "    print(\"dNi+dNj+dNk = \"+str(ec))\n",
    "    \n",
    "    if(COMPROB):\n",
    "        print(\"Comprobación realizada, funciona.\")\n",
    "    else:\n",
    "        print(\"No se satisfacen las condiciones.\")\n",
    "funcionForma(ec1,ec2,ec3)"
   ]
  },
  {
   "cell_type": "code",
   "execution_count": null,
   "metadata": {},
   "outputs": [],
   "source": [
    "###### "
   ]
  }
 ],
 "metadata": {
  "kernelspec": {
   "display_name": "Python 3",
   "language": "python",
   "name": "python3"
  },
  "language_info": {
   "codemirror_mode": {
    "name": "ipython",
    "version": 3
   },
   "file_extension": ".py",
   "mimetype": "text/x-python",
   "name": "python",
   "nbconvert_exporter": "python",
   "pygments_lexer": "ipython3",
   "version": "3.7.3"
  }
 },
 "nbformat": 4,
 "nbformat_minor": 2
}
