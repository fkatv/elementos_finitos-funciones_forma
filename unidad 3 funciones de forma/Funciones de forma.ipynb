{
 "cells": [
  {
   "cell_type": "code",
   "execution_count": 1,
   "metadata": {},
   "outputs": [],
   "source": [
    "import sympy as sp\n",
    "Ti,Tj,a,b,Xi,Xj,phi = sp.symbols(\"Ti,Tj,a,b,Xi,Xj,phi\")\n"
   ]
  },
  {
   "cell_type": "code",
   "execution_count": 2,
   "metadata": {},
   "outputs": [
    {
     "name": "stdout",
     "output_type": "stream",
     "text": [
      "Ti - a\n",
      "Tj - a\n",
      "-Ti*Xj + Tj*Xi - Xi*a + Xj*a\n",
      "Ni = (Ti*Xj - Tj*Xi)/(Xi - Xj)\n",
      "Xi*(Ti - Xi*b)\n",
      "Xj*(Tj - Xj*b)\n",
      "-Ti*Xi*Xj + Tj*Xi*Xj + Xi**2*Xj*b - Xi*Xj**2*b\n",
      "Nj = (-Ti + Tj)/(Xi - Xj)\n"
     ]
    }
   ],
   "source": [
    "#Ti = a+b*Xi\n",
    "#Tj = a+b*Xj\n",
    "ec1 = -Ti + a + b*Xi\n",
    "ec2 = -Tj + a + b*Xj\n",
    "\n",
    "# Recibe las dos ecuaciones de la recta + el indice (i,j) de la funcion de forma\n",
    "def funcionForma(ec1,ec2,v):\n",
    "    var1 = a\n",
    "    var2 = b\n",
    "    if(v == 'i'):\n",
    "        var1 = b\n",
    "        var2 = a\n",
    "    b1 = sp.solve(sp.Eq(ec1),var1)[0]\n",
    "    b2 = sp.solve(sp.Eq(ec2),var1)[0]\n",
    "    vb1 = Xi\n",
    "    vb2 = Xj\n",
    "    # armamos las ecuaciones\n",
    "    if(str(Xi) in str(b1)):\n",
    "        b1 *= Xi\n",
    "    else:\n",
    "        b1 *= Xj\n",
    "        vb1 = Xj\n",
    "    if(\"Xj\" in str(b2)):\n",
    "        b2 *= Xj\n",
    "    else:\n",
    "        b2 *= Xi\n",
    "        vb2 = Xi\n",
    "        \n",
    "    print(b1)\n",
    "    print(b2)\n",
    "    ab = sp.expand((-1*vb2*b1 + vb1*b2))\n",
    "    print(ab)\n",
    "    N = -1*sp.solve(sp.sympify(ab),var2)[0]\n",
    "    N = sp.simplify(N)\n",
    "    return N\n",
    "\n",
    "print(\"Ni = \"+str(funcionForma(ec1,ec2,'i')))\n",
    "print(\"Nj = \"+str(funcionForma(ec1,ec2,'j')))"
   ]
  },
  {
   "cell_type": "code",
   "execution_count": null,
   "metadata": {},
   "outputs": [],
   "source": []
  }
 ],
 "metadata": {
  "kernelspec": {
   "display_name": "Python 3",
   "language": "python",
   "name": "python3"
  },
  "language_info": {
   "codemirror_mode": {
    "name": "ipython",
    "version": 3
   },
   "file_extension": ".py",
   "mimetype": "text/x-python",
   "name": "python",
   "nbconvert_exporter": "python",
   "pygments_lexer": "ipython3",
   "version": "3.7.3"
  }
 },
 "nbformat": 4,
 "nbformat_minor": 2
}
