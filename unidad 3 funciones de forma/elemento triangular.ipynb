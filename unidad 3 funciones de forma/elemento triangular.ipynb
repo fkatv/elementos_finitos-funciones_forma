{
 "cells": [
  {
   "cell_type": "markdown",
   "metadata": {},
   "source": [
    "Elemento triangular"
   ]
  },
  {
   "cell_type": "code",
   "execution_count": 21,
   "metadata": {},
   "outputs": [
    {
     "name": "stdout",
     "output_type": "stream",
     "text": [
      "[[ 1 14 14]\n",
      " [ 1 21 14]\n",
      " [ 1 14 21]]\n",
      "2A = 49\n",
      "ai:245 bi:-7 ci:-7\n",
      "aj:-98 bj:7 cj:0\n",
      "ak:-98 bk:0 ck:7\n",
      "Ni: -x/7 - y/7 + 5\n",
      "Nj: x/7 - 2\n",
      "Nk: y/7 - 2\n",
      "Ingrese coordenada x a calcular: 14.1\n",
      "Ingrese coordenada y a calcular: 14.4\n",
      "Ingrese phi_i : 27\n",
      "Ingrese phi_j : 32\n",
      "Ingrese phi_k : 30\n",
      "Ni: 0.928571428571429\n",
      "Nj: 0.0142857142857142\n",
      "Nk: 0.0571428571428569\n",
      "phi = 27.2428571428571\n"
     ]
    }
   ],
   "source": [
    "import numpy as np\n",
    "#------DATOS----------\n",
    "i = [14,14]\n",
    "j = [21,14]\n",
    "k = [14,21]\n",
    "#---------------------\n",
    "p=[i,j,k]\n",
    "A = [1, p[0][0],p[0][1]]\n",
    "A = np.vstack([A,[1, p[1][0],p[1][1]] ])\n",
    "A = np.vstack([A,[1, p[2][0],p[2][1]] ])\n",
    "print(A)\n",
    "\n",
    "\n",
    "ai = j[0]*k[1] - k[0]*j[1]\n",
    "aj = k[0]*i[1] - i[0]*k[1]\n",
    "ak = i[0]*j[1] - j[0]*i[1]\n",
    "bi = j[1] - k[1]\n",
    "bj = k[1] - i[1]\n",
    "bk = i[1] - j[1]\n",
    "ci = k[0] - j[0]\n",
    "cj = i[0] - k[0]\n",
    "ck = j[0] - i[0]\n",
    "DET = A[0,0]*ai - A[1,0]*-aj + A[2,0]*ak\n",
    "print(\"2A = %s\"%str(DET))\n",
    "print(\"ai:{} bi:{} ci:{}\".format(ai,bi,ci))\n",
    "print(\"aj:{} bj:{} cj:{}\".format(aj,bj,cj))\n",
    "print(\"ak:{} bk:{} ck:{}\".format(ak,bk,ck))\n",
    "\n",
    "import sympy as sp\n",
    "\n",
    "Ni, Nj, Nk, x, y = sp.symbols(\"Ni, Nj, Nk, x, y\")\n",
    "Ni = (ai+bi*x+ci*y)/DET\n",
    "Nj = (aj+bj*x+cj*y)/DET\n",
    "Nk = (ak+bk*x+ck*y)/DET\n",
    "print(\"Ni: \"+ str(sp.simplify(Ni)))\n",
    "print(\"Nj: \"+ str(Nj))\n",
    "print(\"Nk: \"+ str(Nk))\n",
    "\n",
    "x_ = float(input(\"Ingrese coordenada x a calcular: \")) \n",
    "y_ = float(input(\"Ingrese coordenada y a calcular: \")) \n",
    "phi_i = float(input(\"Ingrese phi_i : \"))\n",
    "phi_j = float(input(\"Ingrese phi_j : \"))\n",
    "phi_k = float(input(\"Ingrese phi_k : \"))\n",
    "Ni_ = Ni.subs(x,x_).subs(y,y_)\n",
    "Nj_ = Nj.subs(x,x_).subs(y,y_)\n",
    "Nk_ = Nk.subs(x,x_).subs(y,y_)\n",
    "print(\"Ni: \"+ str(Ni_))\n",
    "print(\"Nj: \"+ str(Nj_))\n",
    "print(\"Nk: \"+ str(Nk_))\n",
    "print(\"phi = \"+str(phi_i*Ni_+phi_j*Nj_+phi_k*Nk_))"
   ]
  },
  {
   "cell_type": "code",
   "execution_count": null,
   "metadata": {},
   "outputs": [],
   "source": []
  }
 ],
 "metadata": {
  "kernelspec": {
   "display_name": "Python 3",
   "language": "python",
   "name": "python3"
  },
  "language_info": {
   "codemirror_mode": {
    "name": "ipython",
    "version": 3
   },
   "file_extension": ".py",
   "mimetype": "text/x-python",
   "name": "python",
   "nbconvert_exporter": "python",
   "pygments_lexer": "ipython3",
   "version": "3.7.3"
  }
 },
 "nbformat": 4,
 "nbformat_minor": 2
}
