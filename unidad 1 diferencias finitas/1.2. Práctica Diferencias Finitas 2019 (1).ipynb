{
 "cells": [
  {
   "cell_type": "markdown",
   "metadata": {},
   "source": [
    "INFO189 \t\t\t\t\t\t\t                                                            Valdivia, 06 de mayo de 2019\n",
    "Prueba 1.2. Práctica (5%)\n",
    "Diferencias Finitas\n",
    "60 puntos corresponden a un 4.0 (www.escaladenotas.cl)\n",
    "\n",
    "Ejercicio (100 puntos):      \n",
    "  \n",
    "Construya un algoritmo en Python que permita determinar la distribución de temperaturas sobre una columna cuadrada en un proceso en estado estacionario utilizando el método de diferencias finitas y considerando una malla homogénea (DeltaX=DeltaY=10cm). Considerando que kx=ky=1[W/mºC] son los coeficientes de conductividad, la temperatura externa corresponde a 20ºC sobre el borde lateral derecho de la columna, mientras que los bordes restantes tienen una temperatura constante de 80ºC, considerando un factor de convección h=1 [w/(m^2 C)]. Considere que la columna cuadrada tiene un ancho de 40[cm] y Q=0.\n",
    "\n",
    "Pauta de evaluación\n",
    "\n",
    "1. Resolución del problema (50 puntos):  \n",
    "    1.1. Ingresa directamente la matriz (20 puntos).\n",
    "    1.2. Calcula la matriz pero con errores (30 puntos).\n",
    "    1.3. Calcula la matriz correctamente (50 puntos).\n",
    "2. Modificación del intervalo DeltaX=DeltaY (20 puntos).\n",
    "    2.1. No permite modificar el valor (5 puntos).\n",
    "    2.2. Permite modificar el valor pero sin validaciones (10 puntos).\n",
    "    2.3. Permite modificar el valor correctamente (20 puntos).\n",
    "3. Modificación de temperatura externa, Te, y bordes fijos, Tb (20 puntos).\n",
    "    2.1. No permite modificar valores (5 puntos).\n",
    "    2.2. Permite modificar solo un valor (10 puntos).\n",
    "    2.3. Permite modificar los valores correctamente (20 puntos).\n",
    "4. Legibilidad del código (10 puntos).\n",
    "    4.1. El código no es comprensible (5 puntos).\n",
    "    4.2. El código es comprensible (10 puntos).\n",
    "\n",
    "Pueden utilizar los apuntes, códigos u otros recursos disponibles.\n"
   ]
  }
 ],
 "metadata": {
  "kernelspec": {
   "display_name": "Python 3",
   "language": "python",
   "name": "python3"
  },
  "language_info": {
   "codemirror_mode": {
    "name": "ipython",
    "version": 3
   },
   "file_extension": ".py",
   "mimetype": "text/x-python",
   "name": "python",
   "nbconvert_exporter": "python",
   "pygments_lexer": "ipython3",
   "version": "3.7.3"
  }
 },
 "nbformat": 4,
 "nbformat_minor": 2
}
