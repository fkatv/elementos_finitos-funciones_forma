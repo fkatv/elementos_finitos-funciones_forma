{
 "cells": [
  {
   "cell_type": "code",
   "execution_count": 1,
   "metadata": {},
   "outputs": [],
   "source": [
    "import sympy as sp\n",
    "import numpy as np\n",
    "import sys\n",
    "np.set_printoptions(threshold=sys.maxsize)\n",
    "np.set_printoptions(threshold=np.inf)"
   ]
  },
  {
   "cell_type": "markdown",
   "metadata": {},
   "source": [
    "Definición de particiones y tamaños del sistema"
   ]
  },
  {
   "cell_type": "code",
   "execution_count": 13,
   "metadata": {},
   "outputs": [
    {
     "name": "stdout",
     "output_type": "stream",
     "text": [
      "[[0. 0. 0. 0. 0.]\n",
      " [0. 0. 0. 0. 0.]\n",
      " [0. 0. 0. 0. 0.]\n",
      " [0. 0. 0. 0. 0.]\n",
      " [0. 0. 0. 0. 0.]]\n"
     ]
    }
   ],
   "source": [
    "dx=.2\n",
    "dy=.2\n",
    "min_x=0\n",
    "max_x=1\n",
    "min_y=0\n",
    "max_y=1\n",
    "xi = np.arange(dx,max_x + dx,dx)\n",
    "yi = np.arange(dy,max_y + dy,dy)\n",
    "lenx = int((max_x-min_x)/dx)\n",
    "leny = int((max_y-min_y)/dy)\n",
    "M = np.zeros((lenx,leny))#determina el mallado segun sus limites dividido en su partición\n",
    "print(M)"
   ]
  },
  {
   "cell_type": "markdown",
   "metadata": {},
   "source": [
    "Definición de condiciones de borde. Nótese que el 1 en la definición representa a la última fila/columna de la matriz"
   ]
  },
  {
   "cell_type": "code",
   "execution_count": 10,
   "metadata": {},
   "outputs": [
    {
     "data": {
      "text/plain": [
       "array([[1., 0., 0., 0., 1.],\n",
       "       [1., 0., 0., 0., 1.],\n",
       "       [1., 0., 0., 0., 1.],\n",
       "       [1., 0., 0., 0., 1.],\n",
       "       [1., 0., 0., 0., 1.]])"
      ]
     },
     "execution_count": 10,
     "metadata": {},
     "output_type": "execute_result"
    }
   ],
   "source": [
    "M[0,:] = 0       # FILA ARRIBA f(x,0) = condición\n",
    "M[leny-1,:] = 0  # FILA ABAJO  f(x,1) = condicion\n",
    "M[:,0] = 1       # COLUMNA IZQ f(0,y) = condicion\n",
    "M[:,lenx-1] = 1  # COLUMNA DER f(1,y) = condicion\n",
    "M"
   ]
  },
  {
   "cell_type": "code",
   "execution_count": 11,
   "metadata": {},
   "outputs": [
    {
     "data": {
      "text/plain": [
       "array([[ 0,  1,  2,  3,  4],\n",
       "       [ 5,  6,  7,  8,  9],\n",
       "       [10, 11, 12, 13, 14],\n",
       "       [15, 16, 17, 18, 19],\n",
       "       [20, 21, 22, 23, 24]])"
      ]
     },
     "execution_count": 11,
     "metadata": {},
     "output_type": "execute_result"
    }
   ],
   "source": [
    "#truco: tener un vector de nodos, para ubicar los f en las ecuaciones correspondientes.\n",
    "N = np.zeros((lenx,leny))\n",
    "nodo=0\n",
    "for i in range(lenx):\n",
    "    for j in range(leny):\n",
    "        N[i,j]=nodo\n",
    "        nodo +=1\n",
    "N = N.astype(int)\n",
    "N"
   ]
  },
  {
   "cell_type": "code",
   "execution_count": 29,
   "metadata": {},
   "outputs": [
    {
     "name": "stdout",
     "output_type": "stream",
     "text": [
      "[-100.   25.    0.    0.    0.   25.    0.    0.    0.    0.    0.    0.\n",
      "    0.    0.    0.    0.    0.    0.    0.    0.    0.    0.    0.    0.\n",
      "    0.]\n",
      "0.2\n"
     ]
    }
   ],
   "source": [
    "def D2fdx(eq,b,i,j):\n",
    "    if(i==j==0):\n",
    "        eq[N[i,j]]   += -2*M[i,j]/dx**2\n",
    "        if(M[i,j]==0):\n",
    "            eq[N[i,j]]   += -2*1/dx**2\n",
    "    if(i+1<lenx):\n",
    "        eq[N[i+1,j]] += 1/dx**2\n",
    "    else:\n",
    "        b[N[i,j]] -= M[i,j]/dx**2\n",
    "    if(i-1>=0):\n",
    "        eq[N[i-1,j]] += 1/dx**2\n",
    "    else:\n",
    "        b[N[i,j]] -= M[i,j]/dx**2\n",
    "    return eq,b\n",
    "\n",
    "def D2fdy(eq,b,i,j):\n",
    "    if(i==j==0):\n",
    "        eq[N[i,j]]   += -2*M[i,j]/dy**2\n",
    "        if(M[i,j]==0):\n",
    "            eq[N[i,j]]   += -2*1/dy**2\n",
    "    else:\n",
    "        eq[N[i,j]]   += -2*1/dy**2\n",
    "    if(j+1<leny):\n",
    "        eq[N[i,j+1]] += 1/dy**2\n",
    "    else:\n",
    "        b[N[i,j]] -= M[i,j]/dy**2\n",
    "    if(j-1>=0):\n",
    "        eq[N[i,j]] += 1/dy**2\n",
    "    else:\n",
    "        b[N[i,j]] -= M[i,j]/dy**2\n",
    "    return eq,b\n",
    "\n",
    "def f(b,i,j):\n",
    "    ## la funcion es x\n",
    "    b[N[i,j]] += xi[i]\n",
    "    return b\n",
    "\n",
    "eqs = np.zeros(lenx*leny)\n",
    "b  =  np.zeros(lenx*leny)\n",
    "for i in range(lenx):\n",
    "    for j in range(leny):\n",
    "        eq = np.zeros(lenx*leny)\n",
    "        \n",
    "        # Cálculo de valores de las ecuaciones de los nodos.\n",
    "        b = f(b,i,j)\n",
    "        eq,b = D2fdx(eq,b,i,j)\n",
    "        eq,b = D2fdy(eq,b,i,j)\n",
    "        \n",
    "        #agregar fila a la matriz eqs a resolver\n",
    "        if(i==0 and j==0):\n",
    "            eqs = eq\n",
    "        else:\n",
    "            eqs = np.vstack([eqs,eq])\n",
    "        \n",
    "print(eqs[0])\n",
    "print(b[0])\n",
    "#np.linalg.solve(eqs,b)"
   ]
  },
  {
   "cell_type": "code",
   "execution_count": null,
   "metadata": {},
   "outputs": [],
   "source": []
  }
 ],
 "metadata": {
  "kernelspec": {
   "display_name": "Python 3",
   "language": "python",
   "name": "python3"
  },
  "language_info": {
   "codemirror_mode": {
    "name": "ipython",
    "version": 3
   },
   "file_extension": ".py",
   "mimetype": "text/x-python",
   "name": "python",
   "nbconvert_exporter": "python",
   "pygments_lexer": "ipython3",
   "version": "3.7.3"
  }
 },
 "nbformat": 4,
 "nbformat_minor": 2
}
