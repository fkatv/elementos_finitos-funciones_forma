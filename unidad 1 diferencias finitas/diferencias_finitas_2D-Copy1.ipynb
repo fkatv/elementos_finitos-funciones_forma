{
 "cells": [
  {
   "cell_type": "code",
   "execution_count": 1,
   "metadata": {},
   "outputs": [],
   "source": [
    "import sympy as sp\n",
    "import numpy as np\n",
    "import sys\n",
    "np.set_printoptions(threshold=sys.maxsize)\n",
    "np.set_printoptions(threshold=np.inf)"
   ]
  },
  {
   "cell_type": "markdown",
   "metadata": {},
   "source": [
    "Definición de particiones y tamaños del sistema"
   ]
  },
  {
   "cell_type": "code",
   "execution_count": 2,
   "metadata": {},
   "outputs": [
    {
     "name": "stdout",
     "output_type": "stream",
     "text": [
      "[[0. 0. 0. 0. 0.]\n",
      " [0. 0. 0. 0. 0.]\n",
      " [0. 0. 0. 0. 0.]\n",
      " [0. 0. 0. 0. 0.]\n",
      " [0. 0. 0. 0. 0.]]\n"
     ]
    }
   ],
   "source": [
    "dx=.2\n",
    "dy=.2\n",
    "min_x=0\n",
    "max_x=1\n",
    "min_y=0\n",
    "max_y=1\n",
    "#--------------------------------\n",
    "xi = np.arange(dx,max_x + dx,dx)\n",
    "yi = np.arange(dy,max_y + dy,dy)\n",
    "lenx = int((max_x-min_x)/dx)\n",
    "leny = int((max_y-min_y)/dy)\n",
    "M = np.zeros((lenx,leny))#determina el mallado segun sus limites dividido en su partición\n",
    "print(M)"
   ]
  },
  {
   "cell_type": "markdown",
   "metadata": {},
   "source": [
    "Definición de condiciones de borde. Nótese que el 1 en la definición representa a la última fila/columna de la matriz"
   ]
  },
  {
   "cell_type": "code",
   "execution_count": 16,
   "metadata": {},
   "outputs": [
    {
     "name": "stdout",
     "output_type": "stream",
     "text": [
      "[[0. 0. 0. 0. 1.]\n",
      " [0. 0. 0. 0. 1.]\n",
      " [0. 0. 0. 0. 1.]\n",
      " [0. 0. 0. 0. 1.]\n",
      " [0. 0. 0. 0. 1.]]\n",
      "0\n",
      "5\n",
      "0\n",
      "4\n"
     ]
    }
   ],
   "source": [
    "M[0,:] = 0       # FILA ARRIBA f(x,0) = condición\n",
    "M[leny-1,:] = 0  # FILA ABAJO  f(x,1) = condicion\n",
    "M[:,0] = 0       # COLUMNA IZQ f(0,y) = condicion\n",
    "M[:,lenx-1] = 1  # COLUMNA DER f(1,y) = condicion\n",
    "print(M)\n",
    "#limites de iteración\n",
    "def lim(i,j,a,b):\n",
    "    if(M[i][j]!=0):\n",
    "        return a\n",
    "    else:\n",
    "        return b\n",
    "#lim = lambda x: 1 if(x!=0) else 0\n",
    "lim_inf_x = lim(0,1,1,0)\n",
    "lim_sup_x = lim(lenx-1,1,lenx-1,lenx)\n",
    "lim_inf_y = lim(0,0,1,0)\n",
    "lim_sup_y = lim(1,leny-1,leny-1,leny)\n",
    "\n",
    "print(lim_inf_x)\n",
    "print(lim_sup_x)\n",
    "print(lim_inf_y)\n",
    "print(lim_sup_y)"
   ]
  },
  {
   "cell_type": "code",
   "execution_count": 33,
   "metadata": {},
   "outputs": [
    {
     "data": {
      "text/plain": [
       "array([[ 0,  1,  2],\n",
       "       [ 3,  4,  5],\n",
       "       [ 6,  7,  8],\n",
       "       [ 9, 10, 11],\n",
       "       [12, 13, 14]])"
      ]
     },
     "execution_count": 33,
     "metadata": {},
     "output_type": "execute_result"
    }
   ],
   "source": [
    "#truco: tener un vector de nodos, para ubicar los f en las ecuaciones correspondientes.\n",
    "lenx = lim_sup_x - lim_inf_x\n",
    "leny = lim_sup_y - lim_inf_y\n",
    "N = np.zeros((leny,lenx))\n",
    "nodo=0\n",
    "for i in range(leny):\n",
    "    for j in range(lenx):\n",
    "        N[i,j]=nodo\n",
    "        nodo +=1\n",
    "N = N.astype(int)\n",
    "N"
   ]
  },
  {
   "cell_type": "code",
   "execution_count": 35,
   "metadata": {},
   "outputs": [
    {
     "ename": "IndexError",
     "evalue": "index 5 is out of bounds for axis 0 with size 5",
     "output_type": "error",
     "traceback": [
      "\u001b[1;31m---------------------------------------------------------------------------\u001b[0m",
      "\u001b[1;31mIndexError\u001b[0m                                Traceback (most recent call last)",
      "\u001b[1;32m<ipython-input-35-922375027c09>\u001b[0m in \u001b[0;36m<module>\u001b[1;34m\u001b[0m\n\u001b[0;32m     45\u001b[0m         \u001b[1;31m# Cálculo de valores de las ecuaciones de los nodos.\u001b[0m\u001b[1;33m\u001b[0m\u001b[1;33m\u001b[0m\u001b[1;33m\u001b[0m\u001b[0m\n\u001b[0;32m     46\u001b[0m         \u001b[0mb\u001b[0m \u001b[1;33m=\u001b[0m \u001b[0mf\u001b[0m\u001b[1;33m(\u001b[0m\u001b[0mb\u001b[0m\u001b[1;33m,\u001b[0m\u001b[0mi\u001b[0m\u001b[1;33m,\u001b[0m\u001b[0mj\u001b[0m\u001b[1;33m)\u001b[0m\u001b[1;33m\u001b[0m\u001b[1;33m\u001b[0m\u001b[0m\n\u001b[1;32m---> 47\u001b[1;33m         \u001b[0meq\u001b[0m\u001b[1;33m,\u001b[0m\u001b[0mb\u001b[0m \u001b[1;33m=\u001b[0m \u001b[0mD2fdx\u001b[0m\u001b[1;33m(\u001b[0m\u001b[0meq\u001b[0m\u001b[1;33m,\u001b[0m\u001b[0mb\u001b[0m\u001b[1;33m,\u001b[0m\u001b[0mi\u001b[0m\u001b[1;33m,\u001b[0m\u001b[0mj\u001b[0m\u001b[1;33m)\u001b[0m\u001b[1;33m\u001b[0m\u001b[1;33m\u001b[0m\u001b[0m\n\u001b[0m\u001b[0;32m     48\u001b[0m         \u001b[0meq\u001b[0m\u001b[1;33m,\u001b[0m\u001b[0mb\u001b[0m \u001b[1;33m=\u001b[0m \u001b[0mD2fdy\u001b[0m\u001b[1;33m(\u001b[0m\u001b[0meq\u001b[0m\u001b[1;33m,\u001b[0m\u001b[0mb\u001b[0m\u001b[1;33m,\u001b[0m\u001b[0mi\u001b[0m\u001b[1;33m,\u001b[0m\u001b[0mj\u001b[0m\u001b[1;33m)\u001b[0m\u001b[1;33m\u001b[0m\u001b[1;33m\u001b[0m\u001b[0m\n\u001b[0;32m     49\u001b[0m \u001b[1;33m\u001b[0m\u001b[0m\n",
      "\u001b[1;32m<ipython-input-35-922375027c09>\u001b[0m in \u001b[0;36mD2fdx\u001b[1;34m(eq, b, i, j)\u001b[0m\n\u001b[0;32m      7\u001b[0m         \u001b[0meq\u001b[0m\u001b[1;33m[\u001b[0m\u001b[0mN\u001b[0m\u001b[1;33m[\u001b[0m\u001b[0mi\u001b[0m\u001b[1;33m+\u001b[0m\u001b[1;36m1\u001b[0m\u001b[1;33m,\u001b[0m\u001b[0mj\u001b[0m\u001b[1;33m]\u001b[0m\u001b[1;33m]\u001b[0m \u001b[1;33m+=\u001b[0m \u001b[1;36m1\u001b[0m\u001b[1;33m/\u001b[0m\u001b[0mdx\u001b[0m\u001b[1;33m**\u001b[0m\u001b[1;36m2\u001b[0m\u001b[1;33m\u001b[0m\u001b[1;33m\u001b[0m\u001b[0m\n\u001b[0;32m      8\u001b[0m     \u001b[1;32melse\u001b[0m\u001b[1;33m:\u001b[0m\u001b[1;33m\u001b[0m\u001b[1;33m\u001b[0m\u001b[0m\n\u001b[1;32m----> 9\u001b[1;33m         \u001b[0mb\u001b[0m\u001b[1;33m[\u001b[0m\u001b[0mN\u001b[0m\u001b[1;33m[\u001b[0m\u001b[0mi\u001b[0m\u001b[1;33m,\u001b[0m\u001b[0mj\u001b[0m\u001b[1;33m]\u001b[0m\u001b[1;33m]\u001b[0m \u001b[1;33m-=\u001b[0m \u001b[0mM\u001b[0m\u001b[1;33m[\u001b[0m\u001b[0mi\u001b[0m\u001b[1;33m+\u001b[0m\u001b[1;36m1\u001b[0m\u001b[1;33m,\u001b[0m\u001b[0mj\u001b[0m\u001b[1;33m]\u001b[0m\u001b[1;33m/\u001b[0m\u001b[0mdx\u001b[0m\u001b[1;33m**\u001b[0m\u001b[1;36m2\u001b[0m\u001b[1;33m\u001b[0m\u001b[1;33m\u001b[0m\u001b[0m\n\u001b[0m\u001b[0;32m     10\u001b[0m     \u001b[1;32mif\u001b[0m\u001b[1;33m(\u001b[0m\u001b[0mi\u001b[0m\u001b[1;33m-\u001b[0m\u001b[1;36m1\u001b[0m\u001b[1;33m>=\u001b[0m\u001b[1;36m0\u001b[0m\u001b[1;33m)\u001b[0m\u001b[1;33m:\u001b[0m\u001b[1;33m\u001b[0m\u001b[1;33m\u001b[0m\u001b[0m\n\u001b[0;32m     11\u001b[0m         \u001b[0meq\u001b[0m\u001b[1;33m[\u001b[0m\u001b[0mN\u001b[0m\u001b[1;33m[\u001b[0m\u001b[0mi\u001b[0m\u001b[1;33m-\u001b[0m\u001b[1;36m1\u001b[0m\u001b[1;33m,\u001b[0m\u001b[0mj\u001b[0m\u001b[1;33m]\u001b[0m\u001b[1;33m]\u001b[0m \u001b[1;33m+=\u001b[0m \u001b[1;36m1\u001b[0m\u001b[1;33m/\u001b[0m\u001b[0mdx\u001b[0m\u001b[1;33m**\u001b[0m\u001b[1;36m2\u001b[0m\u001b[1;33m\u001b[0m\u001b[1;33m\u001b[0m\u001b[0m\n",
      "\u001b[1;31mIndexError\u001b[0m: index 5 is out of bounds for axis 0 with size 5"
     ]
    }
   ],
   "source": [
    "def D2fdx(eq,b,i,j):\n",
    "    if(i==j==0):\n",
    "        eq[N[i,j]]   += -2*M[i,j]/dx**2\n",
    "        if(M[i,j]==0):\n",
    "            eq[N[i,j]]   += -2*1/dx**2\n",
    "    if(i+1<lenx):\n",
    "        eq[N[i+1,j]] += 1/dx**2\n",
    "    else:\n",
    "        b[N[i,j]] -= M[i+1,j]/dx**2\n",
    "    if(i-1>=0):\n",
    "        eq[N[i-1,j]] += 1/dx**2\n",
    "    else:\n",
    "        b[N[i,j]] -= M[i-1,j]/dx**2\n",
    "    return eq,b\n",
    "\n",
    "def D2fdy(eq,b,i,j):\n",
    "    if(i==j==0):\n",
    "        eq[N[i,j]]   += -2*M[i,j]/dy**2\n",
    "        if(M[i,j]==0):\n",
    "            eq[N[i,j]]   += -2*1/dy**2\n",
    "    else:\n",
    "        eq[N[i,j]]   += -2*1/dy**2\n",
    "    if(j+1<leny):\n",
    "        eq[N[i,j+1]] += 1/dy**2\n",
    "    else:\n",
    "        b[N[i,j]] -= M[i,j+1]/dy**2\n",
    "    if(j-1>=0):\n",
    "        eq[N[i,j]] += 1/dy**2\n",
    "    else:\n",
    "        b[N[i,j]] -= M[i,j-1]/dy**2\n",
    "    return eq,b\n",
    "\n",
    "def f(b,i,j):\n",
    "    ## la funcion es x\n",
    "    b[N[i,j]] += xi[i]\n",
    "    return b\n",
    "\n",
    "\n",
    "eqs = np.zeros(lenx*leny)\n",
    "b  =  np.zeros(lenx*leny)\n",
    "for j in range(lim_inf_x,lim_sup_x):\n",
    "    for i in range(lim_inf_y,lim_sup_y):\n",
    "        eq = np.zeros(lenx*leny)\n",
    "        \n",
    "        # Cálculo de valores de las ecuaciones de los nodos.\n",
    "        b = f(b,i,j)\n",
    "        eq,b = D2fdx(eq,b,i,j)\n",
    "        eq,b = D2fdy(eq,b,i,j)\n",
    "        \n",
    "        #agregar fila a la matriz eqs a resolver\n",
    "        if(i==0 and j==0):\n",
    "            eqs = eq\n",
    "        else:\n",
    "            eqs = np.vstack([eqs,eq])\n",
    "        \n",
    "print(eqs[0])\n",
    "print(b[0])\n",
    "#np.linalg.solve(eqs,b)"
   ]
  },
  {
   "cell_type": "code",
   "execution_count": null,
   "metadata": {},
   "outputs": [],
   "source": []
  }
 ],
 "metadata": {
  "kernelspec": {
   "display_name": "Python 3",
   "language": "python",
   "name": "python3"
  },
  "language_info": {
   "codemirror_mode": {
    "name": "ipython",
    "version": 3
   },
   "file_extension": ".py",
   "mimetype": "text/x-python",
   "name": "python",
   "nbconvert_exporter": "python",
   "pygments_lexer": "ipython3",
   "version": "3.7.3"
  }
 },
 "nbformat": 4,
 "nbformat_minor": 2
}
