{
 "cells": [
  {
   "cell_type": "code",
   "execution_count": 1,
   "metadata": {},
   "outputs": [],
   "source": [
    "import numpy as np\n",
    "\n",
    "pB =np.array([0.31, 0.18, 0.38, 0.25])\n",
    "pB = np.vstack((pB,[0.25, 0.18,0.31, 0.25 ]))\n",
    "pB = np.vstack((pB,[0.25, 0.06,0.31, 0.13 ]))\n",
    "pB = np.vstack((pB,[0.31, 0.13,0.38, 0.19 ]))\n",
    "pB = np.vstack((pB,[0.40, 0.00,0.44, 0.03 ]))\n",
    "\n",
    "\n",
    "phiB = np.array([115,85,76,105])\n",
    "phiB = np.vstack((phiB,[140,115,104,124]))\n",
    "phiB = np.vstack((phiB,[158,130,125,150]))\n",
    "phiB = np.vstack((phiB,[125,92,86,116]))\n",
    "phiB = np.vstack((phiB,[76,54,60,80]))\n",
    "\n",
    "contorno = np.array([90,130,154,100,70])"
   ]
  },
  {
   "cell_type": "code",
   "execution_count": 2,
   "metadata": {},
   "outputs": [],
   "source": [
    "#funciones de forma\n",
    "def Ni(s,t,a,b):\n",
    "    return (1-s/(2*b))*(1-t/(2*a))\n",
    "def Nj(s,t,a,b):\n",
    "    return (s/(2*b))*(1-t/(2*a))\n",
    "def Nk(s,t,a,b):\n",
    "    return (s*t)/(4*a*b)\n",
    "def Nm(s,t,a,b):\n",
    "    return (t/(2*a))*(1-s/(2*b))"
   ]
  },
  {
   "cell_type": "code",
   "execution_count": 3,
   "metadata": {},
   "outputs": [],
   "source": [
    "#phi en los puntos\n",
    "p_x = [0.35, 0.26, 0.28, 0.34, 0.42]\n",
    "p_y = [0.22, 0.22, 0.10, 0.15, 0.01]\n",
    "#linea de contorno\n",
    "linea = [90,130,154,100,70]"
   ]
  },
  {
   "cell_type": "code",
   "execution_count": 6,
   "metadata": {},
   "outputs": [
    {
     "name": "stdout",
     "output_type": "stream",
     "text": [
      "El valor de phi(0.35,0.22) = phi(0.04,0.04)  es 92.469388\n",
      "El valor de phi(0.26,0.22) = phi(0.01,0.04)  es 127.166667\n",
      "El valor de phi(0.28,0.10) = phi(0.03,0.04)  es 140.285714\n",
      "El valor de phi(0.34,0.15) = phi(0.03,0.02)  es 108.285714\n",
      "El valor de phi(0.42,0.01) = phi(0.02,0.01)  es 66.666667\n",
      "Linea de Contorno\n",
      "25.0 - 428.571428571428*s\n",
      "El punto donde pasa la linea de contorno en 90  en B[1] es (0.058333,0.000000)\n",
      "480.0 - 2248.97959183673*s\n",
      "El punto donde pasa la linea de contorno en 90  en B[1] es (0.213430,0.180000)\n",
      "10.0 - 416.666666666667*s\n",
      "El punto donde pasa la linea de contorno en 130  en B[2] es (0.024000,0.000000)\n",
      "10.0 - 228.571428571428*t\n",
      "El punto donde pasa la linea de contorno en 130  en B[2] es (0.000000,0.043750)\n",
      "4.0 - 466.666666666667*s\n",
      "El punto donde pasa la linea de contorno en 154  en B[3] es (0.008571,0.000000)\n",
      "4.0 - 114.285714285714*t\n",
      "El punto donde pasa la linea de contorno en 154  en B[3] es (0.000000,0.035000)\n",
      "25.0 - 471.428571428571*s\n",
      "El punto donde pasa la linea de contorno en 100  en B[4] es (0.053030,0.000000)\n",
      "634.666666666667 - 2714.28571428572*s\n",
      "El punto donde pasa la linea de contorno en 100  en B[4] es (0.233825,0.130000)\n",
      "6.0 - 550.0*s\n",
      "El punto donde pasa la linea de contorno en 70  en B[5] es (0.010909,0.000000)\n",
      "1103.33333333333 - 7333.33333333334*s\n",
      "El punto donde pasa la linea de contorno en 70  en B[5] es (0.150455,0.000000)\n"
     ]
    }
   ],
   "source": [
    "for i in range(5):\n",
    "    s = p_x[i] - pB[i][0]\n",
    "    t = p_y[i] - pB[i][1]\n",
    "    a = (pB[i][3] - pB[i][1])/2\n",
    "    b = (pB[i][2] - pB[i][0])/2\n",
    "    phi = phiB[i][0]*Ni(s,t,a,b) + phiB[i][1]*Nj(s,t,a,b) + phiB[i][2]*Nk(s,t,a,b) + phiB[i][3]*Nm(s,t,a,b)\n",
    "    print(\"El valor de phi(%2.2f,%2.2f) = phi(%2.2f,%2.2f)  es %2f\"%(p_x[i],p_y[i],s,t,phi))\n",
    "\n",
    "print(\"Linea de Contorno\")\n",
    "import sympy as sp\n",
    "s,t,res = sp.symbols(\"s,t,res\")\n",
    "for i in range(5):\n",
    "    vec = 0\n",
    "    a = (pB[i][3] - pB[i][1])/2\n",
    "    b = (pB[i][2] - pB[i][0])/2\n",
    "    x=0\n",
    "    y=0\n",
    "    \n",
    "    # s\n",
    "    if(phiB[i][0]<contorno[i]<phiB[i][1] or phiB[i][0]>contorno[i]>phiB[i][1]):\n",
    "        vec = phiB[i][0]*Ni(s,0,a,b) + phiB[i][1]*Nj(s,0,a,b) - contorno[i]\n",
    "        print(vec)\n",
    "        x = sp.solve(vec, s)[0]\n",
    "        print(\"El punto donde pasa la linea de contorno en %i  en B[%i] es (%2f,%2f)\"%(contorno[i],i+1,x,0))\n",
    "    if(phiB[i][2]<contorno[i]<phiB[i][3] or phiB[i][2]>contorno[i]>phiB[i][3]):\n",
    "        vec = phiB[i][2]*Nk(s,pB[i][2],a,b) + phiB[i][3]*Nm(s,pB[i][2],a,b) - contorno[i]\n",
    "        print(vec)\n",
    "        x = sp.solve(vec, s)[0]\n",
    "        print(\"El punto donde pasa la linea de contorno en %i  en B[%i] es (%2f,%2f)\"%(contorno[i],i+1,x,pB[i][1]))\n",
    "    #t\n",
    "    if(phiB[i][0]<contorno[i]<phiB[i][3] or phiB[i][0]>contorno[i]>phiB[i][3]):\n",
    "        vec = phiB[i][0]*Ni(0,t,a,b) + phiB[i][3]*Nm(0,t,a,b) - contorno[i]\n",
    "        print(vec)\n",
    "        y = sp.solve(vec, t)[0]\n",
    "        print(\"El punto donde pasa la linea de contorno en %i  en B[%i] es (%2f,%2f)\"%(contorno[i],i+1,0,y))\n",
    "    if(phiB[i][1]<contorno[i]<phiB[i][2] or phiB[i][1]>contorno[i]>phiB[i][2]):\n",
    "        vec = phiB[i][1]*Nj(pB[i][2],t,a,b) + phiB[i][2]*Nk(pB[i][2],t,a,b) - contorno[i]\n",
    "        print(vec)\n",
    "        y = sp.solve(vec, t)[0]\n",
    "        print(\"El punto donde pasa la linea de contorno en %i  en B[%i] es (%2f,%2f)\"%(contorno[i],i+1,pB[i][2],y))\n",
    "    \n"
   ]
  },
  {
   "cell_type": "code",
   "execution_count": null,
   "metadata": {},
   "outputs": [],
   "source": []
  }
 ],
 "metadata": {
  "kernelspec": {
   "display_name": "Python 3",
   "language": "python",
   "name": "python3"
  },
  "language_info": {
   "codemirror_mode": {
    "name": "ipython",
    "version": 3
   },
   "file_extension": ".py",
   "mimetype": "text/x-python",
   "name": "python",
   "nbconvert_exporter": "python",
   "pygments_lexer": "ipython3",
   "version": "3.7.3"
  }
 },
 "nbformat": 4,
 "nbformat_minor": 2
}
