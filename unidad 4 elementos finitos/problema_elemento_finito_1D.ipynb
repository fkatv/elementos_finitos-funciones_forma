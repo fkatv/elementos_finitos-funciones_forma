{
 "cells": [
  {
   "cell_type": "markdown",
   "metadata": {},
   "source": [
    "Si el largo de la viga es 800 cm y se divide en cuatro elementos de igual longitud, M=10^6N/cm,\n",
    "EI=2.4$*$10^10 en elementos 1 y 4, y EI=4$*$10^10 en elementos 2 y 3, $\\varphi$(0)= $\\varphi$(800) =0, se tiene\n",
    "\n",
    "EI/L=1.2*10^8 en Elem 1 y 4\n",
    "EI/L=2*10^8 en Elem 2 y 3\n",
    "ML/2=10^8 en todos los elementos "
   ]
  },
  {
   "cell_type": "code",
   "execution_count": 1,
   "metadata": {},
   "outputs": [
    {
     "name": "stdout",
     "output_type": "stream",
     "text": [
      "1200000000.0\n",
      "2000000000.0\n",
      "10000000.0\n"
     ]
    }
   ],
   "source": [
    "#datos\n",
    "L = 80 #en cm\n",
    "elem = 4\n",
    "M = 10**6\n",
    "EI_1_4=2.4*10**10\n",
    "EI_2_3=4*10**10\n",
    "\n",
    "k1_4 = EI_1_4/(L/elem)\n",
    "k2_3 = EI_2_3/(L/elem)\n",
    "ML_2 = (M*(L/elem))/2\n",
    "print(k1_4)\n",
    "print(k2_3)\n",
    "print(ML_2)"
   ]
  },
  {
   "cell_type": "code",
   "execution_count": 2,
   "metadata": {},
   "outputs": [
    {
     "name": "stdout",
     "output_type": "stream",
     "text": [
      "Matrices de rigidez\n",
      "K1:\n",
      "[[ 1.2e+09 -1.2e+09]\n",
      " [-1.2e+09  1.2e+09]]\n",
      "K2:\n",
      "[[ 2.e+09 -2.e+09]\n",
      " [-2.e+09  2.e+09]]\n",
      "K3:\n",
      "[[ 2.e+09 -2.e+09]\n",
      " [-2.e+09  2.e+09]]\n",
      "K4:\n",
      "[[ 1.2e+09 -1.2e+09]\n",
      " [-1.2e+09  1.2e+09]]\n"
     ]
    }
   ],
   "source": [
    "import numpy as np\n",
    "#matrices de rigidez\n",
    "def matriz_rigidez(EiL):\n",
    "    return np.matrix([[EiL, -EiL],[-EiL, EiL]])\n",
    "print(\"Matrices de rigidez\")\n",
    "K1 = matriz_rigidez(k1_4)\n",
    "print(\"K1:\\n\"+str(K1))\n",
    "K2 = matriz_rigidez(k2_3)\n",
    "print(\"K2:\\n\"+str(K2))\n",
    "K3 = matriz_rigidez(k2_3)\n",
    "print(\"K3:\\n\"+str(K3))\n",
    "K4 = matriz_rigidez(k1_4)\n",
    "print(\"K4:\\n\"+str(K4))"
   ]
  },
  {
   "cell_type": "code",
   "execution_count": 3,
   "metadata": {},
   "outputs": [
    {
     "name": "stdout",
     "output_type": "stream",
     "text": [
      "vectores de fuerza\n",
      "f1=f2=f3=f4=f5= [10000000.0, 10000000.0]\n",
      "matriz de ensamble\n",
      "[[ 1.2e+09 -1.2e+09  0.0e+00  0.0e+00  0.0e+00]\n",
      " [-1.2e+09  3.2e+09 -2.0e+09  0.0e+00  0.0e+00]\n",
      " [ 0.0e+00 -2.0e+09  4.0e+09 -2.0e+09  0.0e+00]\n",
      " [ 0.0e+00  0.0e+00 -2.0e+09  3.2e+09 -1.2e+09]\n",
      " [ 0.0e+00  0.0e+00  0.0e+00 -1.2e+09  1.2e+09]]\n",
      "vector fuerzas\n",
      "[[10000000.]\n",
      " [20000000.]\n",
      " [20000000.]\n",
      " [20000000.]\n",
      " [10000000.]]\n",
      "matriz KD = fD\n",
      "KD:\n",
      "[[ 3.2e+09 -2.0e+09  0.0e+00]\n",
      " [-2.0e+09  4.0e+09 -2.0e+09]\n",
      " [ 0.0e+00 -2.0e+09  3.2e+09]]\n",
      "fD:\n",
      "[[20000000.]\n",
      " [20000000.]\n",
      " [20000000.]]\n",
      "soluciones: phi2=[0.025]cm phi3=[0.03]cm phi4=[0.025]cm\n"
     ]
    }
   ],
   "source": [
    "print(\"vectores de fuerza\")\n",
    "fx = [ML_2, ML_2]\n",
    "print(\"f1=f2=f3=f4=f5= \"+str(fx))\n",
    "\n",
    "print(\"matriz de ensamble\")\n",
    "ME = np.zeros((5,5))\n",
    "Ks = [K1,K2,K3,K4]\n",
    "i=0\n",
    "for k in Ks:\n",
    "    ME[i][i] += k.item((0,0))\n",
    "    ME[i][i+1] += k.item((0,1))\n",
    "    ME[i+1][i] += k.item((1,0))\n",
    "    ME[i+1][i+1] += k.item((1,1))\n",
    "    i +=1\n",
    "    \n",
    "print(ME)\n",
    "\n",
    "print(\"vector fuerzas\")\n",
    "vf = np.ones((5,1))\n",
    "vf = vf*ML_2\n",
    "for i in range(3):\n",
    "    vf[i+1] +=ML_2\n",
    "\n",
    "print(vf)\n",
    "\n",
    "print(\"matriz KD = fD\")\n",
    "KD = np.zeros((3,3))\n",
    "fD = np.zeros((3,1))\n",
    "\n",
    "for i in range(3):\n",
    "    fD[i] = vf.item((i+1,0))\n",
    "    for j in range(3):\n",
    "        KD[i][j] = ME.item((i+1,j+1))\n",
    "print(\"KD:\")\n",
    "print(KD)\n",
    "print(\"fD:\")\n",
    "print(fD)\n",
    "S = np.linalg.solve(KD,fD)\n",
    "print(\"soluciones: phi2={}cm phi3={}cm phi4={}cm\".format(S[0],S[1],S[2]))\n"
   ]
  },
  {
   "cell_type": "code",
   "execution_count": null,
   "metadata": {},
   "outputs": [],
   "source": []
  }
 ],
 "metadata": {
  "kernelspec": {
   "display_name": "Python 3",
   "language": "python",
   "name": "python3"
  },
  "language_info": {
   "codemirror_mode": {
    "name": "ipython",
    "version": 3
   },
   "file_extension": ".py",
   "mimetype": "text/x-python",
   "name": "python",
   "nbconvert_exporter": "python",
   "pygments_lexer": "ipython3",
   "version": "3.7.3"
  }
 },
 "nbformat": 4,
 "nbformat_minor": 2
}
