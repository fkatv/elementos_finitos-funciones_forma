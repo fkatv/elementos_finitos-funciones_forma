{
 "cells": [
  {
   "cell_type": "markdown",
   "metadata": {},
   "source": [
    "Si el largo de la viga es 800 cm y se divide en cuatro elementos de igual longitud, M=10^6N/cm,\n",
    "EI=2.4$*$10^10 en elementos 1 y 4, y EI=4$*$10^10 en elementos 2 y 3, $\\varphi$(0)= $\\varphi$(800) =0, se tiene\n",
    "\n",
    "EI/L=1.2*10^8 en Elem 1 y 4\n",
    "EI/L=2*10^8 en Elem 2 y 3\n",
    "ML/2=10^8 en todos los elementos "
   ]
  },
  {
   "cell_type": "code",
   "execution_count": 36,
   "metadata": {},
   "outputs": [
    {
     "name": "stdout",
     "output_type": "stream",
     "text": [
      "120000000000.0\n",
      "200000000000.0\n",
      "100000.0\n"
     ]
    }
   ],
   "source": [
    "#datos\n",
    "L = 0.8\n",
    "elem = 4\n",
    "M = 10**6\n",
    "EI_1_4=2.4*10**10\n",
    "EI_2_3=4*10**10\n",
    "\n",
    "k1_4 = EI_1_4/(L/elem)\n",
    "k2_3 = EI_2_3/(L/elem)\n",
    "ML_2 = (M*(L/elem))/2\n",
    "print(k1_4)\n",
    "print(k2_3)\n",
    "print(ML_2)"
   ]
  },
  {
   "cell_type": "code",
   "execution_count": 32,
   "metadata": {},
   "outputs": [
    {
     "name": "stdout",
     "output_type": "stream",
     "text": [
      "K1:\n",
      "[[ 1.2e+11 -1.2e+11]\n",
      " [-1.2e+11  1.2e+11]]\n",
      "K2:\n",
      "[[ 2.e+11 -2.e+11]\n",
      " [-2.e+11  2.e+11]]\n",
      "K3:\n",
      "[[ 2.e+11 -2.e+11]\n",
      " [-2.e+11  2.e+11]]\n",
      "K4:\n",
      "[[ 1.2e+11 -1.2e+11]\n",
      " [-1.2e+11  1.2e+11]]\n"
     ]
    }
   ],
   "source": [
    "import numpy as np\n",
    "#matrices de rigidez\n",
    "def matriz_rigidez(EiL):\n",
    "    return np.matrix([[EiL, -EiL],[-EiL, EiL]])\n",
    "\n",
    "K1 = matriz_rigidez(k1_4)\n",
    "print(\"K1:\\n\"+str(K1))\n",
    "K2 = matriz_rigidez(k2_3)\n",
    "print(\"K2:\\n\"+str(K2))\n",
    "K3 = matriz_rigidez(k2_3)\n",
    "print(\"K3:\\n\"+str(K3))\n",
    "K4 = matriz_rigidez(k1_4)\n",
    "print(\"K4:\\n\"+str(K4))"
   ]
  }
 ],
 "metadata": {
  "kernelspec": {
   "display_name": "Python 3",
   "language": "python",
   "name": "python3"
  },
  "language_info": {
   "codemirror_mode": {
    "name": "ipython",
    "version": 3
   },
   "file_extension": ".py",
   "mimetype": "text/x-python",
   "name": "python",
   "nbconvert_exporter": "python",
   "pygments_lexer": "ipython3",
   "version": "3.7.3"
  }
 },
 "nbformat": 4,
 "nbformat_minor": 2
}
