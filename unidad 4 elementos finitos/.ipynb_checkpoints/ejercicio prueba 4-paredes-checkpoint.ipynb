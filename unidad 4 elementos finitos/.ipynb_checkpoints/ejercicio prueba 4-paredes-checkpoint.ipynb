{
 "cells": [
  {
   "cell_type": "markdown",
   "metadata": {},
   "source": [
    "Largos de elementos distintos(no uniforme) y momentos de inercia M distintos por cada elemento"
   ]
  },
  {
   "cell_type": "code",
   "execution_count": 18,
   "metadata": {},
   "outputs": [
    {
     "name": "stdout",
     "output_type": "stream",
     "text": [
      "Los elementos son uniformes? si:1 no :0 -> 0\n",
      "N° de elementos (particiones): 3\n",
      "largo en elemento 1: 1.3\n",
      "largo en elemento 2: 8\n",
      "largo en elemento 3: 2.5\n",
      "Largos de elementos de la viga: [1.3, 8.0, 2.5] cm\n",
      "EI / L: [0.015384615384615384, 0.000625, 0.014000000000000002]\n",
      "ML / 2: [0.0, 0.0, 0.0]\n"
     ]
    }
   ],
   "source": [
    "#datos\n",
    "largo = 800 #en cm\n",
    "uniforme = int(input(\"Los elementos son uniformes? si:1 no :0 -> \"))\n",
    "elem = int(input(\"N° de elementos (particiones): \"))\n",
    "L=[]\n",
    "if(uniforme!=1):\n",
    "    for i in range(elem):\n",
    "        L.append(float(input(\"largo en elemento \"+str(i+1)+\": \")))\n",
    "else:\n",
    "    for i in range(elem):\n",
    "        L.append(largo/elem)\n",
    "print(\"Largos de elementos de la viga: \"+str(L) + \" cm\")\n",
    "phi0=20\n",
    "phif=-15\n",
    "M = 0\n",
    "EI = [0.02,0.005,0.035]\n",
    "#EI = [2.4*10**10,4*10**10,4*10**10,2.4*10**10]\n",
    "#definir EI / L para cada elemento [para matriz de rigidez] \n",
    "EIL = [EI[i]/L[i] for i in range(elem)]\n",
    "\n",
    "#definir -ML / 2 para cada elemento [para vector de fuerza]\n",
    "#ML2_1 = -M*L[0]/2\n",
    "#ML2_2 = -M*L[1]/2\n",
    "#ML2_3 = -M*L[2]/2\n",
    "#ML2_4 = -M*L[3]/2\n",
    "ML2 = [-M*L[i]/2 for i in range(elem)]\n",
    "print(\"EI / L: \"+str(EIL))\n",
    "print(\"ML / 2: \"+str(ML2))\n"
   ]
  },
  {
   "cell_type": "code",
   "execution_count": 19,
   "metadata": {},
   "outputs": [
    {
     "name": "stdout",
     "output_type": "stream",
     "text": [
      "Matrices de rigidez\n"
     ]
    },
    {
     "data": {
      "text/plain": [
       "[matrix([[ 0.01538462, -0.01538462],\n",
       "         [-0.01538462,  0.01538462]]), matrix([[ 0.000625, -0.000625],\n",
       "         [-0.000625,  0.000625]]), matrix([[ 0.014, -0.014],\n",
       "         [-0.014,  0.014]])]"
      ]
     },
     "execution_count": 19,
     "metadata": {},
     "output_type": "execute_result"
    }
   ],
   "source": [
    "import numpy as np\n",
    "#matrices de rigidez\n",
    "def matriz_rigidez(EiL):\n",
    "    return np.matrix([[EiL, -EiL],[-EiL, EiL]])\n",
    "print(\"Matrices de rigidez\")\n",
    "Ks = [matriz_rigidez(EIL[i]) for i in range(elem)]\n",
    "Ks\n",
    "#K1 = matriz_rigidez(EIL_1)\n",
    "#print(\"K1:\\n\"+str(K1))"
   ]
  },
  {
   "cell_type": "code",
   "execution_count": 25,
   "metadata": {},
   "outputs": [
    {
     "name": "stdout",
     "output_type": "stream",
     "text": [
      "vectores de fuerzas f1,f2..\n",
      "[[0.0, 0.0], [0.0, 0.0], [0.0, 0.0]]\n",
      "matriz de ensamble\n",
      "[[ 0.01538462 -0.01538462  0.          0.        ]\n",
      " [-0.01538462  0.01600962 -0.000625    0.        ]\n",
      " [ 0.         -0.000625    0.014625   -0.014     ]\n",
      " [ 0.          0.         -0.014       0.014     ]]\n",
      "vector fuerzas\n",
      "[[0.]\n",
      " [0.]\n",
      " [0.]\n",
      " [0.]]\n",
      "matriz KD = fD\n",
      "KD:\n",
      "[[ 0.01600962 -0.000625  ]\n",
      " [-0.000625    0.014625  ]]\n",
      "fD:\n",
      "[[-0.32956731]\n",
      " [ 0.231875  ]]\n",
      "soluciones: [[-20.]\n",
      " [ 15.]]cm\n"
     ]
    }
   ],
   "source": [
    "print(\"vectores de fuerzas f1,f2..\")\n",
    "#f1 = [ML2_1, ML2_1]\n",
    "#f2 = [ML2_2, ML2_2]\n",
    "#f3 = [ML2_3, ML2_3]\n",
    "#f4 = [ML2_4, ML2_4]\n",
    "#print(\"f1=f2=f3=f4=f5= \"+str(fx))\n",
    "\n",
    "f = [[ML2[i],ML2[i]] for i in range(elem) ]\n",
    "print(f)\n",
    "print(\"matriz de ensamble\")\n",
    "ME = np.zeros((elem+1,elem+1))\n",
    "\n",
    "i=0\n",
    "for k in Ks:\n",
    "    ME[i][i] += k.item((0,0))\n",
    "    ME[i][i+1] += k.item((0,1))\n",
    "    ME[i+1][i] += k.item((1,0))\n",
    "    ME[i+1][i+1] += k.item((1,1))\n",
    "    i +=1\n",
    "    \n",
    "print(ME)\n",
    "\n",
    "print(\"vector fuerzas\")\n",
    "vf = np.zeros((elem+1,1))\n",
    "vf[0] = ML2[0]\n",
    "for i in range(elem-1):\n",
    "    vf[i+1] +=ML2[i] + ML2[i+1]\n",
    "vf[elem] = ML2[elem-1]\n",
    "\n",
    "#for i in range(elem-1):\n",
    "#    vf[i+1] +=ML2[i] + ML2[i+1]\n",
    "#vf[elem-1] = ML2[elem-1]\n",
    "\n",
    "print(vf)\n",
    "\n",
    "print(\"matriz KD = fD\")\n",
    "KD = np.zeros((elem-1,elem-1))\n",
    "fD = np.zeros((elem-1,1))\n",
    "\n",
    "for i in range(elem-1):\n",
    "    fD[i] = vf.item((i+1,0))\n",
    "    for j in range(elem-1):\n",
    "        KD[i][j] = ME.item((i+1,j+1))\n",
    "print(\"KD:\")\n",
    "print(KD)\n",
    "print(\"fD:\")\n",
    "for i in range(len(fD)):\n",
    "    fD[i] -= KD[i][0]*phi0\n",
    "    fD[i] -= KD[i][len(KD[0,:])-1]*phif\n",
    "print(fD)\n",
    "S = np.linalg.solve(KD,fD)\n",
    "print(\"soluciones: {}cm\".format(S))\n"
   ]
  },
  {
   "cell_type": "code",
   "execution_count": null,
   "metadata": {},
   "outputs": [],
   "source": []
  }
 ],
 "metadata": {
  "kernelspec": {
   "display_name": "Python 3",
   "language": "python",
   "name": "python3"
  }
 },
 "nbformat": 4,
 "nbformat_minor": 2
}
