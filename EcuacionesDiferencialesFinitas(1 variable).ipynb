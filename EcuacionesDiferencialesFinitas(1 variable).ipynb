{
 "cells": [
  {
   "cell_type": "markdown",
   "metadata": {},
   "source": [
    "\n",
    "<h1>Ecuaciones Diferenciales con diferencias Finitas de dos puntos by FCat[2019]</h1>\n",
    "\n",
    "    - Reinicie el kernel o corra cada celda hasta el final\n"
   ]
  },
  {
   "cell_type": "code",
   "execution_count": 1,
   "metadata": {},
   "outputs": [],
   "source": [
    "from sympy import var\n",
    "from sympy import sympify\n",
    "import math\n",
    "import numpy as np\n",
    "import matplotlib.pyplot as mp\n",
    "\n",
    "x = var('x')  \n",
    "xi = []\n",
    "\n",
    "# Valida y retorna el valor de la expresión ingresada\n",
    "def func(user_input,index):\n",
    "    try:\n",
    "        expr = sympify(user_input)\n",
    "        return expr.subs(x, xi[index])\n",
    "    except:\n",
    "        print(\"[!] Expresión '%s' es inválida.\"%user_input)\n",
    "        return -1\n",
    "\n",
    "def isfloat(value):\n",
    "    try:\n",
    "        float(value)\n",
    "        return True\n",
    "    except ValueError:\n",
    "        return False\n"
   ]
  },
  {
   "cell_type": "code",
   "execution_count": 2,
   "metadata": {},
   "outputs": [],
   "source": [
    "# Definición de diferencias finitas\n",
    "\n",
    "# Función f (i: index, m: coeficiente de la f)\n",
    "def f(i,m):\n",
    "    A[i][i] = A[i][i] + m\n",
    "    \n",
    "# Función de la primera derivada df\n",
    "# i: index, h: tamaño paso, m: coeficiente de la función f'\n",
    "def df(i,h,m):\n",
    "    A[i][i-1] = A[i][i-1] - m/(2*h)\n",
    "    try:\n",
    "        A[i][i+1] = A[i][i+1] + m/(2*h)\n",
    "    except:\n",
    "        pass\n",
    "    if(i == 0):\n",
    "        b[i] = b[i] - m*x0/(2*h)\n",
    "    if((i+1)== dim):\n",
    "        b[i] = b[i] - m*x1/(2*h)\n",
    "        \n",
    "# Función de la segunda derivada df\n",
    "# i: index, h: tamaño paso, m: coeficiente de la función f''\n",
    "def d2f(i,h,m):\n",
    "    A[i][i-1] = A[i][i-1] + m/(h*h)\n",
    "    A[i][i]   = A[i][i] - 2*m/(h*h)\n",
    "    try:\n",
    "        A[i][i+1] = A[i][i+1] + m/(h*h)\n",
    "    except:\n",
    "        pass\n",
    "    if(i == 0):\n",
    "        b[i] = b[i] - m*x0/(h*h)\n",
    "    if((i+1)== dim):\n",
    "        b[i] = b[i] - m*x1/(h*h)\n",
    "        "
   ]
  },
  {
   "cell_type": "code",
   "execution_count": 3,
   "metadata": {},
   "outputs": [
    {
     "name": "stdout",
     "output_type": "stream",
     "text": [
      "Ecuaciones Diferenciales con diferencias finitas de dos puntos by FCat [2019]\n",
      "- Ingrese los cuadrados como x*x\n",
      "- No olvide poner '*' entre los números y variables, ej: 2*x, -4*cos(3*x),etc \n",
      "\n",
      "tamaño paso h: 0.2\n",
      "Coeficiente de la segunda derivada: 1\n",
      "Coeficiente de la primera derivada: 0\n",
      "Coeficiente de la función: -x\n",
      "Coeficiente libre: 1\n",
      "x(0): 0\n",
      "x(1): 1\n",
      "----------------------------------\n",
      "Ecuación: (1)f'' + (0)f' + (-x)f = 1\n",
      "x0 = 0.00 x1 =1.00 h =0.20\n",
      "xi = [0.2, 0.4, 0.6, 0.8]\n",
      "Resultado Matriz:\n",
      "[[-50.2  25.    0.    0. ]\n",
      " [ 25.  -50.4  25.    0. ]\n",
      " [  0.   25.  -50.6  25. ]\n",
      " [  0.    0.   25.  -50.8]]\n",
      "Resultado Coeficientes:\n",
      "[1.0, 1.0, 1.0, -24.0]\n",
      "Soluciones\n",
      "[0.108, 0.257, 0.45, 0.694]\n"
     ]
    },
    {
     "data": {
      "text/plain": [
       "[<matplotlib.lines.Line2D at 0x7f6ca955c0b8>]"
      ]
     },
     "execution_count": 3,
     "metadata": {},
     "output_type": "execute_result"
    },
    {
     "data": {
      "image/png": "[encoded data removed]",
      "text/plain": [
       "<Figure size 432x288 with 1 Axes>"
      ]
     },
     "metadata": {
      "needs_background": "light"
     },
     "output_type": "display_data"
    }
   ],
   "source": [
    "#coeficientes de la ecuación\n",
    "print(\"Ecuaciones Diferenciales con diferencias finitas de dos puntos by FCat [2019]\")\n",
    "print(\"- Ingrese los cuadrados como x*x\")\n",
    "print(\"- No olvide poner '*' entre los números y variables, ej: 2*x, -4*cos(3*x),etc \\n\")\n",
    "\n",
    "\n",
    "hinput = input(\"tamaño paso h: \")\n",
    "while(isfloat(hinput)==False or float(hinput)<=0):\n",
    "    print(\"El tamaño de paso debe ser mayor a cero\")\n",
    "    hinput = input(\"tamaño paso h: \")\n",
    "h = float(hinput)\n",
    "#valores xi del intervalo entre x(0) y x(1) con paso h\n",
    "xi = [x/10 for x in range(int(h*10),10,int(h*10))]\n",
    "\n",
    "cd2f = input(\"Coeficiente de la segunda derivada: \")\n",
    "while(func(cd2f,1)==-1):\n",
    "    cd2f = input(\"Coeficiente de la segunda derivada: \")\n",
    "cdf = input(\"Coeficiente de la primera derivada: \")\n",
    "while(func(cdf,1)==-1):\n",
    "    cdf = input(\"Coeficiente de la primera derivada: \")\n",
    "cf = input(\"Coeficiente de la función: \")\n",
    "while(func(cf,1)==-1):\n",
    "    cf = input(\"Coeficiente de la función: \")\n",
    "c  = input(\"Coeficiente libre: \")\n",
    "while(func(c,1)==-1):\n",
    "    c = input(\"Coeficiente libre: \")\n",
    "\n",
    "inputx = input(\"x(0): \")\n",
    "while(isfloat(inputx)==False):\n",
    "    inputx = input(\"x(0): \")\n",
    "x0 = float(inputx)\n",
    "inputx = input(\"x(1): \")\n",
    "while(isfloat(inputx)==False):\n",
    "    inputx = input(\"x(1): \")\n",
    "x1 = float(inputx)\n",
    "\n",
    "dim = len(xi)\n",
    "A = np.zeros((dim,dim))\n",
    "b = np.zeros((dim))\n",
    "\n",
    "\n",
    "#generación de sistema\n",
    "for i in range(dim):\n",
    "    b[i] = func(c,i)\n",
    "    d2f(i,h,func(cd2f,i))\n",
    "    df(i,h,func(cdf,i))\n",
    "    f(i,func(cf,i))\n",
    "    \n",
    "    \n",
    "A[0][dim-1] = 0.0 #ajuste ><\n",
    "    \n",
    "#redondear\n",
    "\n",
    "for i in range(dim):\n",
    "    for j in range(dim):\n",
    "        A[i][j] = round(A[i][j],3)\n",
    "        \n",
    "b = [round(x,3) for x in b]\n",
    "\n",
    "#solucion sistema\n",
    "solve = np.linalg.solve(A,b)\n",
    "solve =[round(x,3) for x in solve]\n",
    "\n",
    "#output\n",
    "print(\"----------------------------------\")\n",
    "print(\"Ecuación: (%s)f'' + (%s)f' + (%s)f = %s\"%(cd2f,cdf,cf,c))\n",
    "print(\"x0 = %2.2f x1 =%2.2f h =%2.2f\"%(x0,x1,h))\n",
    "print(\"xi = \"+ str(xi))\n",
    "print(\"Resultado Matriz:\")\n",
    "print(A)\n",
    "print(\"Resultado Coeficientes:\")\n",
    "print(b)\n",
    "print(\"Soluciones\")\n",
    "print(solve)\n",
    "mp.plot(xi,solve,color='green', marker='o', linestyle='dashed',\n",
    "        linewidth=2, markersize=12)"
   ]
  },
  {
   "cell_type": "code",
   "execution_count": null,
   "metadata": {},
   "outputs": [],
   "source": []
  },
  {
   "cell_type": "code",
   "execution_count": null,
   "metadata": {},
   "outputs": [],
   "source": []
  }
 ],
 "metadata": {
  "kernelspec": {
   "display_name": "Python 3",
   "language": "python",
   "name": "python3"
  },
  "language_info": {
   "codemirror_mode": {
    "name": "ipython",
    "version": 3
   },
   "file_extension": ".py",
   "mimetype": "text/x-python",
   "name": "python",
   "nbconvert_exporter": "python",
   "pygments_lexer": "ipython3",
   "version": "3.7.2"
  }
 },
 "nbformat": 4,
 "nbformat_minor": 2
}
