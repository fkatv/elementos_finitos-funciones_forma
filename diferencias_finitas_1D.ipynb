{
 "cells": [
  {
   "cell_type": "code",
   "execution_count": 1,
   "metadata": {},
   "outputs": [],
   "source": [
    "import sympy as sp\n",
    "import numpy as np"
   ]
  },
  {
   "cell_type": "code",
   "execution_count": 2,
   "metadata": {},
   "outputs": [],
   "source": [
    "x,d2f,df,f,fa,fb,fc = sp.symbols(\"x,d2f,df,f,fa,fb,fc\")\n",
    "#definir valores\n",
    "dx=0.1\n",
    "f_i=0\n",
    "f_f=1\n",
    "x_max = 1\n",
    "# --------------------------\n",
    "# fa: f_i-1  fb: fi  fc: f_i+1\n",
    "xi = np.arange(dx,x_max,dx)\n",
    "d2f = (fa-2*fb+fc)/(dx**2)\n",
    "df = (fc-fa)/(2*dx)  #derivada central\n",
    "\n"
   ]
  },
  {
   "cell_type": "code",
   "execution_count": 3,
   "metadata": {},
   "outputs": [],
   "source": [
    "#definir función (despejada)\n",
    "ec = -1*(x-4)*d2f+df+f\n",
    "#---------------------------------\n",
    "ec = ec.subs(f,fb)"
   ]
  },
  {
   "cell_type": "code",
   "execution_count": 5,
   "metadata": {},
   "outputs": [
    {
     "name": "stdout",
     "output_type": "stream",
     "text": [
      "Ecuaciones\n",
      "[-779.000000000000, 395.000000000000]\n",
      "[375.000000000000, -759.000000000000, 385.000000000000]\n",
      "[365.000000000000, -739.000000000000, 375.000000000000]\n",
      "[355.000000000000, -719.000000000000, 365.000000000000]\n",
      "[345.000000000000, -699.000000000000, 355.000000000000]\n",
      "[335.000000000000, -679.000000000000, 345.000000000000]\n",
      "[325.000000000000, -659.000000000000, 335.000000000000]\n",
      "[315.000000000000, -639.000000000000, 325.000000000000]\n",
      "[305.000000000000, -619.000000000000, 315.000000000000]\n",
      "Matriz y vector\n",
      "[[-779.  395.    0.    0.    0.    0.    0.    0.    0.]\n",
      " [ 375. -759.  385.    0.    0.    0.    0.    0.    0.]\n",
      " [   0.  365. -739.  375.    0.    0.    0.    0.    0.]\n",
      " [   0.    0.  355. -719.  365.    0.    0.    0.    0.]\n",
      " [   0.    0.    0.  345. -699.  355.    0.    0.    0.]\n",
      " [   0.    0.    0.    0.  335. -679.  345.    0.    0.]\n",
      " [   0.    0.    0.    0.    0.  325. -659.  335.    0.]\n",
      " [   0.    0.    0.    0.    0.    0.  315. -639.  325.]\n",
      " [   0.    0.    0.    0.    0.    0.    0.  305. -619.]]\n",
      "[-0. -0. -0. -0. -0. -0. -0. -0. -0.]\n",
      "Solución\n",
      "[0. 0. 0. 0. 0. 0. 0. 0. 0.]\n"
     ]
    }
   ],
   "source": [
    "ecuaciones=np.zeros(5)\n",
    "b=[]\n",
    "index=0\n",
    "print(\"Ecuaciones\")\n",
    "for i in xi:\n",
    "    ec1 = ec.subs(d2f,d2f.subs(dx,dx)).subs(x, i)\n",
    "    vector = np.zeros((len(xi))) \n",
    "    if(i==dx):\n",
    "        ec1= ec1.subs(fa,f_i)\n",
    "    if(index==len(xi)-1):\n",
    "        ec1= ec1.subs(fc,f_f)\n",
    "    #print(ec1)\n",
    "    ec1 = sp.Poly(ec1,[fa,fb,fc])\n",
    "    ec1 = ec1.coeffs()\n",
    "    \n",
    "    if(index==0):\n",
    "        vector[0]=ec1[0]\n",
    "        vector[1]=ec1[1]\n",
    "    elif(0< index < len(xi)-1):\n",
    "        vector[index-1]=ec1[0]\n",
    "        vector[index]=ec1[1]\n",
    "        vector[index+1]=ec1[2]\n",
    "    else:\n",
    "        vector[len(xi)-2]=ec1[0]\n",
    "        vector[len(xi)-1]=ec1[1]\n",
    "    if(index==0):\n",
    "        ecuaciones= vector\n",
    "    else:\n",
    "        ecuaciones = np.vstack([ecuaciones,vector])\n",
    "    print(ec1)\n",
    "    if(len(ec1)>len(xi)-2):\n",
    "        b.append(ec1[len(ec1)-1])\n",
    "    else:\n",
    "        b.append(0)\n",
    "    index +=1\n",
    "print(\"Matriz y vector\")\n",
    "print(ecuaciones)\n",
    "b = [-1*float(x) for x in b]\n",
    "b = np.array(b)\n",
    "print(b)\n",
    "print(\"Solución\")\n",
    "print(np.linalg.solve(ecuaciones,b))"
   ]
  },
  {
   "cell_type": "code",
   "execution_count": null,
   "metadata": {},
   "outputs": [],
   "source": []
  }
 ],
 "metadata": {
  "kernelspec": {
   "display_name": "Python 3",
   "language": "python",
   "name": "python3"
  },
  "language_info": {
   "codemirror_mode": {
    "name": "ipython",
    "version": 3
   },
   "file_extension": ".py",
   "mimetype": "text/x-python",
   "name": "python",
   "nbconvert_exporter": "python",
   "pygments_lexer": "ipython3",
   "version": "3.7.3"
  }
 },
 "nbformat": 4,
 "nbformat_minor": 2
}
