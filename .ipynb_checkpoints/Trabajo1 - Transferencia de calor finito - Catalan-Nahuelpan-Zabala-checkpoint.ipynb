{
 "cells": [
  {
   "cell_type": "markdown",
   "metadata": {},
   "source": [
    "## Transferencia de calor en un paralelepípedo \n",
    "ver informe"
   ]
  },
  {
   "cell_type": "code",
   "execution_count": 29,
   "metadata": {},
   "outputs": [
    {
     "name": "stdout",
     "output_type": "stream",
     "text": [
      "Ingrese h valido: 1\n",
      "Nodos del sistema: 45\n",
      "Resultados en el archivo Matriz.txt\n"
     ]
    },
    {
     "data": {
      "text/plain": [
       "True"
      ]
     },
     "execution_count": 29,
     "metadata": {},
     "output_type": "execute_result"
    }
   ],
   "source": [
    "import numpy as np\n",
    "from mpl_toolkits.mplot3d import Axes3D\n",
    "import matplotlib.pyplot as plt\n",
    "import webbrowser\n",
    "\n",
    "# valida si una entrada es un flotante\n",
    "def isfloat(f):\n",
    "    try:\n",
    "        n = float(f)\n",
    "        return True\n",
    "    except:\n",
    "        return False\n",
    "    \n",
    "# pedir paso. Valida paso con el modulo de 2%h\n",
    "hinput = input(\"Ingrese h valido: \")\n",
    "while(isfloat(hinput)==False or (2%float(hinput)!=0 or 2/float(hinput)<2)):\n",
    "    hinput = input(\"Ingrese h valido: \")\n",
    "h = float(hinput)\n",
    "\n",
    "#determinamos los intervalos de cada eje, sumamos 1 para incluir el borde\n",
    "x=int(2/h)+1\n",
    "y=int(4/h)+1\n",
    "z=int(2/h)+1\n",
    "\n",
    "#Generación de nodos: \n",
    "N = np.zeros((y,x,z)) #matriz de nodos\n",
    "nodo=0\n",
    "# La distribución de nuestros nodos sigue esta estructura\n",
    "# descartamos la ultima capa y donde T = 10° (y-1)\n",
    "# La matriz N tiene los nodos asociados a cada punto i,j,k del vector de T°\n",
    "for j in range(y):\n",
    "    for k in range(z):\n",
    "        for i in range(x):\n",
    "            #(\"%i,%i,%i = %i\"%(i,j,k,nodo))\n",
    "            N[j][i][k] = nodo\n",
    "            nodo+=1\n",
    "print(\"Nodos del sistema: %i\"%nodo)\n",
    "if(nodo>500):\n",
    "    print(\"Espere...\")\n",
    "# por comodidad, los valores de los nodos deben ser enteros(de float a enteros para no convertirlos despues)\n",
    "N= np.int_(N)\n",
    "#print(N)\n",
    "#print(\"----------------------------------\")\n",
    "\n",
    "#se usa para cuando se quiere probar si un nodo esta fuera de la malla\n",
    "#por lo general se da cuando se accede a un nodo +1 (i+1 o j+1 o k+1) o si los indices son negativos\n",
    "def probarNodo(ecuacion,i,j,k,valor):\n",
    "    if(i<0 or j<0 or k<0):\n",
    "        return ecuacion\n",
    "    else:\n",
    "        try:\n",
    "            ecuacion[ N[j][k][i]] += valor\n",
    "        except:\n",
    "            pass\n",
    "    return ecuacion\n",
    "    \n",
    "# Matriz\n",
    "M = np.zeros((nodo)) #matriz de nodos a resolver(A)\n",
    "b = np.zeros((nodo)) #matriz de coeficientes (36)\n",
    "\n",
    "# Crear ecuaciones en matriz tridimensional\n",
    "n=0\n",
    "ecuas = \"Ecuaciones:\\n\"\n",
    "for j in range(y):\n",
    "    for i in range(x):\n",
    "        for k in range(z):\n",
    "            ecuacion = np.zeros((nodo))\n",
    "            if(j == 0):\n",
    "                #primera cara donde esta el flujo de calor constante\n",
    "                ecuacion = probarNodo(ecuacion,i,j+1,k,1)\n",
    "                if(h==1):\n",
    "                    ecuacion =probarNodo(ecuacion,i,j,k,-1)#arreglin\n",
    "                b[n] =0.5*h # -Q*h**2/0.5 -h ; Q=0 \n",
    "            else:\n",
    "                if(j<y-1):\n",
    "                    ecuacion = probarNodo(ecuacion,i+1,j,k,1)\n",
    "                    if(i-1>=0):\n",
    "                        ecuacion = probarNodo(ecuacion,i-1,j,k,1)\n",
    "                    ecuacion = probarNodo(ecuacion,i,j+1,k,1)\n",
    "                    if(j-1>=0):\n",
    "                        ecuacion = probarNodo(ecuacion,i,j-1,k,1)\n",
    "                    ecuacion = probarNodo(ecuacion,i,j,k+1,1)\n",
    "                    if(k-1>=0):\n",
    "                        ecuacion = probarNodo(ecuacion,i,j,k-1,1)\n",
    "                    ecuacion = probarNodo(ecuacion,i,j,k,-6)\n",
    "                    if(j<y/2-1):\n",
    "                        b[n] = 0 # Cara donde Q = 0\n",
    "                    else:\n",
    "                        b[n] = -(1*h**2)/0.5 # Cara donde Q = 1 -Qh**2/0.5\n",
    "                else:\n",
    "                    ecuacion = probarNodo(ecuacion,i,j,k,1) # últimos 9 nodos de la ultima\n",
    "                    b[n] = 10 # Tijk = 10 \n",
    "\n",
    "            # Si esta en la primera pasada, registra la ecuacion en M, SINO, concatena \n",
    "            # la ecuacion como una fila hacia abajo    \n",
    "            if(n == 0):\n",
    "                M = ecuacion\n",
    "            else:\n",
    "                M = np.vstack((M, ecuacion))\n",
    "            n+=1\n",
    "\n",
    "M = np.int_(M)\n",
    "\n",
    "#resolver la ecuacion\n",
    "solve = np.linalg.solve(M,b)\n",
    "#solve =[round(x,3) for x in solve]\n",
    "\n",
    "print(\"Resultados en el archivo Matriz.txt\")\n",
    "#guardamos en matriz.txt            \n",
    "F = open(\"matriz.txt\",\"w\") \n",
    "F.write(\"\\nMatriz|coeficientes\\n\")\n",
    "for i in range(nodo):\n",
    "    for j in range(nodo):\n",
    "        if(M[i][j]>=0 and M[i][j]<10):\n",
    "            F.write(\" %s \"%str(M[i][j]))\n",
    "        else:\n",
    "            F.write(\"%s \"%str(M[i][j]))\n",
    "    F.write(\" = %f\"%b[i])\n",
    "    F.write(\"\\n\")\n",
    "    \n",
    "F.write(\"\\nSoluciones:\\n\")\n",
    "for s in range(nodo):\n",
    "    F.write(\"T%i = %f\\n\"%(s+1,solve[s]))\n",
    "F.close()\n",
    "\n",
    "#abrir txt\n",
    "webbrowser.open(\"matriz.txt\")\n",
    "\n",
    "#print(\"M:%s\"%str(M))\n",
    "#print(\"b:%s\"%str(b))\n",
    "#print(\"soluciones:%s\"%str(solve))"
   ]
  },
  {
   "cell_type": "markdown",
   "metadata": {},
   "source": [
    "hmm no logramos el gráfico."
   ]
  },
  {
   "cell_type": "code",
   "execution_count": 69,
   "metadata": {},
   "outputs": [
    {
     "ename": "AttributeError",
     "evalue": "'NoneType' object has no attribute 'autoscale_None'",
     "output_type": "error",
     "traceback": [
      "\u001b[0;31m---------------------------------------------------------------------------\u001b[0m",
      "\u001b[0;31mAttributeError\u001b[0m                            Traceback (most recent call last)",
      "\u001b[0;32m<ipython-input-69-3d1918c6261f>\u001b[0m in \u001b[0;36m<module>\u001b[0;34m()\u001b[0m\n\u001b[1;32m      2\u001b[0m \u001b[0mfig\u001b[0m \u001b[0;34m=\u001b[0m \u001b[0mplt\u001b[0m\u001b[0;34m.\u001b[0m\u001b[0mfigure\u001b[0m\u001b[0;34m(\u001b[0m\u001b[0;34m)\u001b[0m\u001b[0;34m\u001b[0m\u001b[0;34m\u001b[0m\u001b[0m\n\u001b[1;32m      3\u001b[0m \u001b[0max\u001b[0m \u001b[0;34m=\u001b[0m \u001b[0mfig\u001b[0m\u001b[0;34m.\u001b[0m\u001b[0madd_subplot\u001b[0m\u001b[0;34m(\u001b[0m\u001b[0;36m111\u001b[0m\u001b[0;34m,\u001b[0m \u001b[0mprojection\u001b[0m\u001b[0;34m=\u001b[0m\u001b[0;34m'3d'\u001b[0m\u001b[0;34m)\u001b[0m\u001b[0;34m\u001b[0m\u001b[0;34m\u001b[0m\u001b[0m\n\u001b[0;32m----> 4\u001b[0;31m \u001b[0mfig\u001b[0m\u001b[0;34m.\u001b[0m\u001b[0mcolorbar\u001b[0m\u001b[0;34m(\u001b[0m\u001b[0mplt\u001b[0m\u001b[0;34m.\u001b[0m\u001b[0mhot\u001b[0m\u001b[0;34m(\u001b[0m\u001b[0;34m)\u001b[0m\u001b[0;34m,\u001b[0m \u001b[0max\u001b[0m\u001b[0;34m=\u001b[0m\u001b[0max\u001b[0m\u001b[0;34m)\u001b[0m\u001b[0;34m\u001b[0m\u001b[0;34m\u001b[0m\u001b[0m\n\u001b[0m\u001b[1;32m      5\u001b[0m \u001b[0mx\u001b[0m\u001b[0;34m=\u001b[0m\u001b[0mint\u001b[0m\u001b[0;34m(\u001b[0m\u001b[0;36m4\u001b[0m\u001b[0;34m/\u001b[0m\u001b[0mh\u001b[0m\u001b[0;34m)\u001b[0m\u001b[0;34m+\u001b[0m\u001b[0;36m1\u001b[0m\u001b[0;34m\u001b[0m\u001b[0;34m\u001b[0m\u001b[0m\n\u001b[1;32m      6\u001b[0m \u001b[0mx_\u001b[0m\u001b[0;34m=\u001b[0m \u001b[0mnp\u001b[0m\u001b[0;34m.\u001b[0m\u001b[0mlinspace\u001b[0m\u001b[0;34m(\u001b[0m\u001b[0;36m0\u001b[0m\u001b[0;34m,\u001b[0m\u001b[0;36m2\u001b[0m\u001b[0;34m,\u001b[0m\u001b[0mx\u001b[0m\u001b[0;34m)\u001b[0m\u001b[0;34m\u001b[0m\u001b[0;34m\u001b[0m\u001b[0m\n",
      "\u001b[0;32m~/anaconda3/lib/python3.7/site-packages/matplotlib/figure.py\u001b[0m in \u001b[0;36mcolorbar\u001b[0;34m(self, mappable, cax, ax, use_gridspec, **kw)\u001b[0m\n\u001b[1;32m   2096\u001b[0m                              'panchor']\n\u001b[1;32m   2097\u001b[0m         \u001b[0mcb_kw\u001b[0m \u001b[0;34m=\u001b[0m \u001b[0;34m{\u001b[0m\u001b[0mk\u001b[0m\u001b[0;34m:\u001b[0m \u001b[0mv\u001b[0m \u001b[0;32mfor\u001b[0m \u001b[0mk\u001b[0m\u001b[0;34m,\u001b[0m \u001b[0mv\u001b[0m \u001b[0;32min\u001b[0m \u001b[0mkw\u001b[0m\u001b[0;34m.\u001b[0m\u001b[0mitems\u001b[0m\u001b[0;34m(\u001b[0m\u001b[0;34m)\u001b[0m \u001b[0;32mif\u001b[0m \u001b[0mk\u001b[0m \u001b[0;32mnot\u001b[0m \u001b[0;32min\u001b[0m \u001b[0mNON_COLORBAR_KEYS\u001b[0m\u001b[0;34m}\u001b[0m\u001b[0;34m\u001b[0m\u001b[0;34m\u001b[0m\u001b[0m\n\u001b[0;32m-> 2098\u001b[0;31m         \u001b[0mcb\u001b[0m \u001b[0;34m=\u001b[0m \u001b[0mcbar\u001b[0m\u001b[0;34m.\u001b[0m\u001b[0mcolorbar_factory\u001b[0m\u001b[0;34m(\u001b[0m\u001b[0mcax\u001b[0m\u001b[0;34m,\u001b[0m \u001b[0mmappable\u001b[0m\u001b[0;34m,\u001b[0m \u001b[0;34m**\u001b[0m\u001b[0mcb_kw\u001b[0m\u001b[0;34m)\u001b[0m\u001b[0;34m\u001b[0m\u001b[0;34m\u001b[0m\u001b[0m\n\u001b[0m\u001b[1;32m   2099\u001b[0m \u001b[0;34m\u001b[0m\u001b[0m\n\u001b[1;32m   2100\u001b[0m         \u001b[0mself\u001b[0m\u001b[0;34m.\u001b[0m\u001b[0msca\u001b[0m\u001b[0;34m(\u001b[0m\u001b[0mcurrent_ax\u001b[0m\u001b[0;34m)\u001b[0m\u001b[0;34m\u001b[0m\u001b[0;34m\u001b[0m\u001b[0m\n",
      "\u001b[0;32m~/anaconda3/lib/python3.7/site-packages/matplotlib/colorbar.py\u001b[0m in \u001b[0;36mcolorbar_factory\u001b[0;34m(cax, mappable, **kwargs)\u001b[0m\n\u001b[1;32m   1397\u001b[0m         \u001b[0mcb\u001b[0m \u001b[0;34m=\u001b[0m \u001b[0mColorbarPatch\u001b[0m\u001b[0;34m(\u001b[0m\u001b[0mcax\u001b[0m\u001b[0;34m,\u001b[0m \u001b[0mmappable\u001b[0m\u001b[0;34m,\u001b[0m \u001b[0;34m**\u001b[0m\u001b[0mkwargs\u001b[0m\u001b[0;34m)\u001b[0m\u001b[0;34m\u001b[0m\u001b[0;34m\u001b[0m\u001b[0m\n\u001b[1;32m   1398\u001b[0m     \u001b[0;32melse\u001b[0m\u001b[0;34m:\u001b[0m\u001b[0;34m\u001b[0m\u001b[0;34m\u001b[0m\u001b[0m\n\u001b[0;32m-> 1399\u001b[0;31m         \u001b[0mcb\u001b[0m \u001b[0;34m=\u001b[0m \u001b[0mColorbar\u001b[0m\u001b[0;34m(\u001b[0m\u001b[0mcax\u001b[0m\u001b[0;34m,\u001b[0m \u001b[0mmappable\u001b[0m\u001b[0;34m,\u001b[0m \u001b[0;34m**\u001b[0m\u001b[0mkwargs\u001b[0m\u001b[0;34m)\u001b[0m\u001b[0;34m\u001b[0m\u001b[0;34m\u001b[0m\u001b[0m\n\u001b[0m\u001b[1;32m   1400\u001b[0m \u001b[0;34m\u001b[0m\u001b[0m\n\u001b[1;32m   1401\u001b[0m     \u001b[0mcid\u001b[0m \u001b[0;34m=\u001b[0m \u001b[0mmappable\u001b[0m\u001b[0;34m.\u001b[0m\u001b[0mcallbacksSM\u001b[0m\u001b[0;34m.\u001b[0m\u001b[0mconnect\u001b[0m\u001b[0;34m(\u001b[0m\u001b[0;34m'changed'\u001b[0m\u001b[0;34m,\u001b[0m \u001b[0mcb\u001b[0m\u001b[0;34m.\u001b[0m\u001b[0mon_mappable_changed\u001b[0m\u001b[0;34m)\u001b[0m\u001b[0;34m\u001b[0m\u001b[0;34m\u001b[0m\u001b[0m\n",
      "\u001b[0;32m~/anaconda3/lib/python3.7/site-packages/matplotlib/colorbar.py\u001b[0m in \u001b[0;36m__init__\u001b[0;34m(self, ax, mappable, **kw)\u001b[0m\n\u001b[1;32m    918\u001b[0m         \u001b[0;31m# Ensure the given mappable's norm has appropriate vmin and vmax set\u001b[0m\u001b[0;34m\u001b[0m\u001b[0;34m\u001b[0m\u001b[0;34m\u001b[0m\u001b[0m\n\u001b[1;32m    919\u001b[0m         \u001b[0;31m# even if mappable.draw has not yet been called.\u001b[0m\u001b[0;34m\u001b[0m\u001b[0;34m\u001b[0m\u001b[0;34m\u001b[0m\u001b[0m\n\u001b[0;32m--> 920\u001b[0;31m         \u001b[0mmappable\u001b[0m\u001b[0;34m.\u001b[0m\u001b[0mautoscale_None\u001b[0m\u001b[0;34m(\u001b[0m\u001b[0;34m)\u001b[0m\u001b[0;34m\u001b[0m\u001b[0;34m\u001b[0m\u001b[0m\n\u001b[0m\u001b[1;32m    921\u001b[0m \u001b[0;34m\u001b[0m\u001b[0m\n\u001b[1;32m    922\u001b[0m         \u001b[0mself\u001b[0m\u001b[0;34m.\u001b[0m\u001b[0mmappable\u001b[0m \u001b[0;34m=\u001b[0m \u001b[0mmappable\u001b[0m\u001b[0;34m\u001b[0m\u001b[0;34m\u001b[0m\u001b[0m\n",
      "\u001b[0;31mAttributeError\u001b[0m: 'NoneType' object has no attribute 'autoscale_None'"
     ]
    },
    {
     "data": {
      "image/png": "[encoded data removed]",
      "text/plain": [
       "<Figure size 432x288 with 2 Axes>"
      ]
     },
     "metadata": {
      "needs_background": "light"
     },
     "output_type": "display_data"
    }
   ],
   "source": [
    "from mpl_toolkits.mplot3d import Axes3D \n",
    "fig = plt.figure()\n",
    "ax = fig.add_subplot(111, projection='3d')\n",
    "#fig.colorbar(plt.hot(), ax=ax)\n",
    "x=int(4/h)+1\n",
    "x_= np.linspace(0,2,x)\n",
    "print(x_)\n",
    "y_ = solve[0:y]\n",
    "print(y_)\n",
    "ax.scatter(x_,x_,y_)\n",
    "#print(np.size(y_))\n",
    "for i in range(len(x_)):\n",
    "    sup = i+y\n",
    "    y_ = solve[sup:sup+y]\n",
    "    print(y_)\n",
    "    ax.scatter(x_,x_,y_)\n",
    "plt.show()"
   ]
  },
  {
   "cell_type": "code",
   "execution_count": null,
   "metadata": {},
   "outputs": [],
   "source": []
  }
 ],
 "metadata": {
  "kernelspec": {
   "display_name": "Python 3",
   "language": "python",
   "name": "python3"
  },
  "language_info": {
   "codemirror_mode": {
    "name": "ipython",
    "version": 3
   },
   "file_extension": ".py",
   "mimetype": "text/x-python",
   "name": "python",
   "nbconvert_exporter": "python",
   "pygments_lexer": "ipython3",
   "version": "3.7.4"
  }
 },
 "nbformat": 4,
 "nbformat_minor": 2
}
