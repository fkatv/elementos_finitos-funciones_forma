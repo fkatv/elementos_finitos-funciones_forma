{
 "cells": [
  {
   "cell_type": "code",
   "execution_count": 4,
   "metadata": {},
   "outputs": [
    {
     "name": "stdout",
     "output_type": "stream",
     "text": [
      "Ingrese dimensión de la matriz: 2\n",
      "Ingrese fila 1 separada por un espacio: 1 0\n",
      "Ingrese 1° valor del vector de constantes:2\n",
      "Ingrese fila 2 separada por un espacio: 0 1\n",
      "Ingrese 2° valor del vector de constantes:-5\n",
      "[[1. 0.]\n",
      " [0. 1.]]\n",
      "[ 2. -5.]\n",
      "[ 2. -5.]\n"
     ]
    }
   ],
   "source": [
    "import numpy as np\n",
    "dim = int(input(\"Ingrese dimensión de la matriz: \"))\n",
    "M = np.zeros(dim)\n",
    "b= np.zeros(dim)\n",
    "for i in range(dim):\n",
    "    f = input(\"Ingrese fila %s separada por un espacio: \"%str(i+1))\n",
    "    b_ = float(input(\"Ingrese %s° valor del vector de constantes:\"%str(i+1)))\n",
    "    fila = f.split()\n",
    "    fila = np.array(fila).astype(float)\n",
    "    if(i==0):\n",
    "        M = fila\n",
    "    else:\n",
    "        M = np.vstack([M,fila])\n",
    "    b[i]=b_\n",
    "\n",
    "print(M)\n",
    "print(b)\n",
    "print(np.linalg.solve(M,b))"
   ]
  },
  {
   "cell_type": "code",
   "execution_count": null,
   "metadata": {},
   "outputs": [],
   "source": []
  }
 ],
 "metadata": {
  "kernelspec": {
   "display_name": "Python 3",
   "language": "python",
   "name": "python3"
  },
  "language_info": {
   "codemirror_mode": {
    "name": "ipython",
    "version": 3
   },
   "file_extension": ".py",
   "mimetype": "text/x-python",
   "name": "python",
   "nbconvert_exporter": "python",
   "pygments_lexer": "ipython3",
   "version": "3.7.3"
  }
 },
 "nbformat": 4,
 "nbformat_minor": 2
}
