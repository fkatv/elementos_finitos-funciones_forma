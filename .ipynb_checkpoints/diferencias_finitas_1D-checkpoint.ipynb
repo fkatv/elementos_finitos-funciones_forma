{
 "cells": [
  {
   "cell_type": "code",
   "execution_count": 1,
   "metadata": {},
   "outputs": [],
   "source": [
    "import sympy as sp\n",
    "import numpy as np"
   ]
  },
  {
   "cell_type": "code",
   "execution_count": 34,
   "metadata": {},
   "outputs": [],
   "source": [
    "x,d2f,df,f,fa,fb,fc = sp.symbols(\"x,d2f,df,f,fa,fb,fc\")\n",
    "#definir funciones\n",
    "dx=0.2\n",
    "f_i=0\n",
    "f_f=1\n",
    "xi = np.arange(dx,1,dx)\n",
    "d2f = (fa-2*fb+fc)/(dx**2)\n",
    "df = (fc-fa)/dx\n",
    "ec = (x+1)*d2f+(x*x+3)*fb -sp.sin(x)\n"
   ]
  },
  {
   "cell_type": "code",
   "execution_count": 66,
   "metadata": {},
   "outputs": [
    {
     "name": "stdout",
     "output_type": "stream",
     "text": [
      "-56.96*fb + 30.0*fc - 0.198669330795061\n",
      "35.0*fa - 66.84*fb + 35.0*fc - 0.389418342308651\n",
      "40.0*fa - 76.64*fb + 40.0*fc - 0.564642473395035\n",
      "45.0*fa - 86.36*fb + 44.2826439091005\n",
      "[[-56.96  30.     0.     0.  ]\n",
      " [ 35.   -66.84  35.     0.  ]\n",
      " [  0.     0.    40.   -76.64]\n",
      " [  0.     0.    45.   -86.36]]\n",
      "[-0.198669330795061 -0.389418342308651 -0.564642473395035 44.2826439091005]\n"
     ]
    },
    {
     "ename": "TypeError",
     "evalue": "No loop matching the specified signature and casting\nwas found for ufunc solve1",
     "output_type": "error",
     "traceback": [
      "\u001b[1;31m---------------------------------------------------------------------------\u001b[0m",
      "\u001b[1;31mTypeError\u001b[0m                                 Traceback (most recent call last)",
      "\u001b[1;32m<ipython-input-66-223f1c3aef8a>\u001b[0m in \u001b[0;36m<module>\u001b[1;34m\u001b[0m\n\u001b[0;32m     32\u001b[0m \u001b[0mb\u001b[0m \u001b[1;33m=\u001b[0m \u001b[0mnp\u001b[0m\u001b[1;33m.\u001b[0m\u001b[0marray\u001b[0m\u001b[1;33m(\u001b[0m\u001b[0mb\u001b[0m\u001b[1;33m)\u001b[0m\u001b[1;33m\u001b[0m\u001b[1;33m\u001b[0m\u001b[0m\n\u001b[0;32m     33\u001b[0m \u001b[0mprint\u001b[0m\u001b[1;33m(\u001b[0m\u001b[0mb\u001b[0m\u001b[1;33m)\u001b[0m\u001b[1;33m\u001b[0m\u001b[1;33m\u001b[0m\u001b[0m\n\u001b[1;32m---> 34\u001b[1;33m \u001b[0mprint\u001b[0m\u001b[1;33m(\u001b[0m\u001b[0mnp\u001b[0m\u001b[1;33m.\u001b[0m\u001b[0mlinalg\u001b[0m\u001b[1;33m.\u001b[0m\u001b[0msolve\u001b[0m\u001b[1;33m(\u001b[0m\u001b[0mecuaciones\u001b[0m\u001b[1;33m,\u001b[0m\u001b[0mb\u001b[0m\u001b[1;33m)\u001b[0m\u001b[1;33m)\u001b[0m\u001b[1;33m\u001b[0m\u001b[1;33m\u001b[0m\u001b[0m\n\u001b[0m",
      "\u001b[1;32m~\\Miniconda3\\lib\\site-packages\\numpy\\linalg\\linalg.py\u001b[0m in \u001b[0;36msolve\u001b[1;34m(a, b)\u001b[0m\n\u001b[0;32m    401\u001b[0m     \u001b[0msignature\u001b[0m \u001b[1;33m=\u001b[0m \u001b[1;34m'DD->D'\u001b[0m \u001b[1;32mif\u001b[0m \u001b[0misComplexType\u001b[0m\u001b[1;33m(\u001b[0m\u001b[0mt\u001b[0m\u001b[1;33m)\u001b[0m \u001b[1;32melse\u001b[0m \u001b[1;34m'dd->d'\u001b[0m\u001b[1;33m\u001b[0m\u001b[1;33m\u001b[0m\u001b[0m\n\u001b[0;32m    402\u001b[0m     \u001b[0mextobj\u001b[0m \u001b[1;33m=\u001b[0m \u001b[0mget_linalg_error_extobj\u001b[0m\u001b[1;33m(\u001b[0m\u001b[0m_raise_linalgerror_singular\u001b[0m\u001b[1;33m)\u001b[0m\u001b[1;33m\u001b[0m\u001b[1;33m\u001b[0m\u001b[0m\n\u001b[1;32m--> 403\u001b[1;33m     \u001b[0mr\u001b[0m \u001b[1;33m=\u001b[0m \u001b[0mgufunc\u001b[0m\u001b[1;33m(\u001b[0m\u001b[0ma\u001b[0m\u001b[1;33m,\u001b[0m \u001b[0mb\u001b[0m\u001b[1;33m,\u001b[0m \u001b[0msignature\u001b[0m\u001b[1;33m=\u001b[0m\u001b[0msignature\u001b[0m\u001b[1;33m,\u001b[0m \u001b[0mextobj\u001b[0m\u001b[1;33m=\u001b[0m\u001b[0mextobj\u001b[0m\u001b[1;33m)\u001b[0m\u001b[1;33m\u001b[0m\u001b[1;33m\u001b[0m\u001b[0m\n\u001b[0m\u001b[0;32m    404\u001b[0m \u001b[1;33m\u001b[0m\u001b[0m\n\u001b[0;32m    405\u001b[0m     \u001b[1;32mreturn\u001b[0m \u001b[0mwrap\u001b[0m\u001b[1;33m(\u001b[0m\u001b[0mr\u001b[0m\u001b[1;33m.\u001b[0m\u001b[0mastype\u001b[0m\u001b[1;33m(\u001b[0m\u001b[0mresult_t\u001b[0m\u001b[1;33m,\u001b[0m \u001b[0mcopy\u001b[0m\u001b[1;33m=\u001b[0m\u001b[1;32mFalse\u001b[0m\u001b[1;33m)\u001b[0m\u001b[1;33m)\u001b[0m\u001b[1;33m\u001b[0m\u001b[1;33m\u001b[0m\u001b[0m\n",
      "\u001b[1;31mTypeError\u001b[0m: No loop matching the specified signature and casting\nwas found for ufunc solve1"
     ]
    }
   ],
   "source": [
    "ecuaciones=np.zeros(5)\n",
    "b=[]\n",
    "index=0\n",
    "for i in xi:\n",
    "    ec1 = ec.subs(d2f,d2f.subs(dx,dx)).subs(x, i)\n",
    "    vector = np.zeros((len(xi))) \n",
    "    if(i==dx):\n",
    "        ec1= ec1.subs(fa,f_i)\n",
    "    if(i==f_f-dx):\n",
    "        ec1= ec1.subs(fc,f_f)\n",
    "    print(ec1)\n",
    "    ec1 = sp.Poly(ec1,[fa,fb,fc])\n",
    "    ec1 = ec1.coeffs()\n",
    "    \n",
    "    if(index==0):\n",
    "        vector[0]=ec1[0]\n",
    "        vector[1]=ec1[1]\n",
    "    elif(0< index < len(xi)-2):\n",
    "        vector[index-1]=ec1[0]\n",
    "        vector[index]=ec1[1]\n",
    "        vector[index+1]=ec1[2]\n",
    "    else:\n",
    "        vector[len(xi)-2]=ec1[0]\n",
    "        vector[len(xi)-1]=ec1[1]\n",
    "    if(index==0):\n",
    "        ecuaciones= vector\n",
    "    else:\n",
    "        ecuaciones = np.vstack([ecuaciones,vector])\n",
    "    b.append(ec1[len(ec1)-1])\n",
    "    index +=1\n",
    "print(ecuaciones)\n",
    "b = np.array(b)\n",
    "print(b)\n",
    "print(np.linalg.solve(ecuaciones,b))"
   ]
  }
 ],
 "metadata": {
  "kernelspec": {
   "display_name": "Python 3",
   "language": "python",
   "name": "python3"
  },
  "language_info": {
   "codemirror_mode": {
    "name": "ipython",
    "version": 3
   },
   "file_extension": ".py",
   "mimetype": "text/x-python",
   "name": "python",
   "nbconvert_exporter": "python",
   "pygments_lexer": "ipython3",
   "version": "3.7.3"
  }
 },
 "nbformat": 4,
 "nbformat_minor": 2
}
